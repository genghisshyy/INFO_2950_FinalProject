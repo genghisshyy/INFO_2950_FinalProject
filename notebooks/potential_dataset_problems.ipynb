{
 "cells": [
  {
   "cell_type": "markdown",
   "metadata": {},
   "source": [
    "### Note: all analysis below was performed before additional lyrics data was scraped. Therefore, running all cells in this notebook again will lead to differing results, since the dataset has been updated since the initial analysis in this notebook."
   ]
  },
  {
   "cell_type": "code",
   "execution_count": 1,
   "metadata": {
    "collapsed": true
   },
   "outputs": [],
   "source": [
    "import pandas\n",
    "import numpy as np\n",
    "import re\n",
    "import string"
   ]
  },
  {
   "cell_type": "code",
   "execution_count": 2,
   "metadata": {},
   "outputs": [
    {
     "data": {
      "text/html": [
       "<div>\n",
       "<style>\n",
       "    .dataframe thead tr:only-child th {\n",
       "        text-align: right;\n",
       "    }\n",
       "\n",
       "    .dataframe thead th {\n",
       "        text-align: left;\n",
       "    }\n",
       "\n",
       "    .dataframe tbody tr th {\n",
       "        vertical-align: top;\n",
       "    }\n",
       "</style>\n",
       "<table border=\"1\" class=\"dataframe\">\n",
       "  <thead>\n",
       "    <tr style=\"text-align: right;\">\n",
       "      <th></th>\n",
       "      <th>artist</th>\n",
       "      <th>lyrics</th>\n",
       "      <th>metascore</th>\n",
       "      <th>release_date</th>\n",
       "      <th>title</th>\n",
       "      <th>user_score</th>\n",
       "    </tr>\n",
       "  </thead>\n",
       "  <tbody>\n",
       "    <tr>\n",
       "      <th>0</th>\n",
       "      <td>Fiona Apple</td>\n",
       "      <td>[\"\\n\\n\\nI've waited many years\\nEvery print I ...</td>\n",
       "      <td>100</td>\n",
       "      <td>17-Apr-20</td>\n",
       "      <td>Fetch the Bolt Cutters</td>\n",
       "      <td>8.8</td>\n",
       "    </tr>\n",
       "    <tr>\n",
       "      <th>1</th>\n",
       "      <td>Rina Sawayama</td>\n",
       "      <td>[\"\\n\\n\\nI'm losing myself\\nIn the darkness of ...</td>\n",
       "      <td>90</td>\n",
       "      <td>17-Apr-20</td>\n",
       "      <td>Sawayama</td>\n",
       "      <td>9.1</td>\n",
       "    </tr>\n",
       "    <tr>\n",
       "      <th>2</th>\n",
       "      <td>Laura Marling</td>\n",
       "      <td>[\"\\n\\n\\nWhat became of Alexandra\\nDid she make...</td>\n",
       "      <td>90</td>\n",
       "      <td>10-Apr-20</td>\n",
       "      <td>Song for Our Daughter</td>\n",
       "      <td>8.7</td>\n",
       "    </tr>\n",
       "    <tr>\n",
       "      <th>3</th>\n",
       "      <td>BC Camplight</td>\n",
       "      <td>['\\n\\n\\nThis afternoon I thought about Buckfas...</td>\n",
       "      <td>89</td>\n",
       "      <td>24-Apr-20</td>\n",
       "      <td>Shortly After Takeoff</td>\n",
       "      <td>8.4</td>\n",
       "    </tr>\n",
       "    <tr>\n",
       "      <th>4</th>\n",
       "      <td>Dua Lipa</td>\n",
       "      <td>[\"\\n\\n\\nFuture\\n(Future nostalgia)\\n(Future no...</td>\n",
       "      <td>89</td>\n",
       "      <td>27-Mar-20</td>\n",
       "      <td>Future Nostalgia</td>\n",
       "      <td>9.0</td>\n",
       "    </tr>\n",
       "  </tbody>\n",
       "</table>\n",
       "</div>"
      ],
      "text/plain": [
       "          artist                                             lyrics  \\\n",
       "0    Fiona Apple  [\"\\n\\n\\nI've waited many years\\nEvery print I ...   \n",
       "1  Rina Sawayama  [\"\\n\\n\\nI'm losing myself\\nIn the darkness of ...   \n",
       "2  Laura Marling  [\"\\n\\n\\nWhat became of Alexandra\\nDid she make...   \n",
       "3   BC Camplight  ['\\n\\n\\nThis afternoon I thought about Buckfas...   \n",
       "4       Dua Lipa  [\"\\n\\n\\nFuture\\n(Future nostalgia)\\n(Future no...   \n",
       "\n",
       "   metascore release_date                   title user_score  \n",
       "0        100    17-Apr-20  Fetch the Bolt Cutters        8.8  \n",
       "1         90    17-Apr-20                Sawayama        9.1  \n",
       "2         90    10-Apr-20   Song for Our Daughter        8.7  \n",
       "3         89    24-Apr-20   Shortly After Takeoff        8.4  \n",
       "4         89    27-Mar-20        Future Nostalgia        9.0  "
      ]
     },
     "execution_count": 2,
     "metadata": {},
     "output_type": "execute_result"
    }
   ],
   "source": [
    "# loading dataset into Pandas DataFrame\n",
    "albums_df = pandas.read_csv(\"data/albums.csv\")\n",
    "albums_df.head()"
   ]
  },
  {
   "cell_type": "markdown",
   "metadata": {},
   "source": [
    "Having loaded our dataset, we begin by exploring each DataFrame column for potential problems."
   ]
  },
  {
   "cell_type": "markdown",
   "metadata": {},
   "source": [
    "# Exploring the `artist` and `title` Columns"
   ]
  },
  {
   "cell_type": "code",
   "execution_count": 3,
   "metadata": {},
   "outputs": [
    {
     "name": "stdout",
     "output_type": "stream",
     "text": [
      "There are 0 rows in the DataFrame where the artist is listed as an empty string.\n"
     ]
    }
   ],
   "source": [
    "num_blank_artists = len(albums_df[albums_df[\"artist\"] == \"\"])\n",
    "print(\"There are \" + str(num_blank_artists) + \" rows in the DataFrame where the artist is listed as an empty string.\")"
   ]
  },
  {
   "cell_type": "markdown",
   "metadata": {},
   "source": [
    "It therefore appears that all data in the `artist` column is reasonable! We can similarly check for potentially incorrect entries in the `title` column:"
   ]
  },
  {
   "cell_type": "code",
   "execution_count": 4,
   "metadata": {},
   "outputs": [
    {
     "name": "stdout",
     "output_type": "stream",
     "text": [
      "There are 0 rows in the DataFrame where the album title is listed as an empty string.\n"
     ]
    }
   ],
   "source": [
    "num_blank_titles = len(albums_df[albums_df[\"title\"] == \"\"])\n",
    "print(\"There are \" + str(num_blank_titles) + \" rows in the DataFrame where the album title is listed as an empty string.\")"
   ]
  },
  {
   "cell_type": "markdown",
   "metadata": {},
   "source": [
    "# Exploring the `metascore` and `user_score` Columns"
   ]
  },
  {
   "cell_type": "markdown",
   "metadata": {},
   "source": [
    "Having checked `artist` and `title`, we now move to the two \"numeric\" columns, `metascore` and `user_score`. For the former column, we expect all values to be integers within the range of 0 to 100, inclusive:"
   ]
  },
  {
   "cell_type": "code",
   "execution_count": 5,
   "metadata": {},
   "outputs": [
    {
     "data": {
      "text/plain": [
       "0       100\n",
       "1        90\n",
       "2        90\n",
       "3        89\n",
       "4        89\n",
       "5        89\n",
       "6        88\n",
       "7        88\n",
       "8        87\n",
       "9        87\n",
       "10       87\n",
       "11       86\n",
       "12       86\n",
       "13       85\n",
       "14       85\n",
       "15       85\n",
       "16       85\n",
       "17       84\n",
       "18       84\n",
       "19       84\n",
       "20       84\n",
       "21       84\n",
       "22       84\n",
       "23       84\n",
       "24       83\n",
       "25       83\n",
       "26       83\n",
       "27       83\n",
       "28       83\n",
       "29       83\n",
       "       ... \n",
       "1054     81\n",
       "1055     81\n",
       "1056     81\n",
       "1057     81\n",
       "1058     81\n",
       "1059     81\n",
       "1060     81\n",
       "1061     81\n",
       "1062     81\n",
       "1063     81\n",
       "1064     81\n",
       "1065     81\n",
       "1066     81\n",
       "1067     81\n",
       "1068     81\n",
       "1069     81\n",
       "1070     81\n",
       "1071     81\n",
       "1072     81\n",
       "1073     81\n",
       "1074     81\n",
       "1075     80\n",
       "1076     80\n",
       "1077     80\n",
       "1078     80\n",
       "1079     80\n",
       "1080     80\n",
       "1081     80\n",
       "1082     80\n",
       "1083     80\n",
       "Name: metascore, Length: 1084, dtype: int64"
      ]
     },
     "execution_count": 5,
     "metadata": {},
     "output_type": "execute_result"
    }
   ],
   "source": [
    "albums_df[\"metascore\"]"
   ]
  },
  {
   "cell_type": "markdown",
   "metadata": {},
   "source": [
    "As seen above, the `dtype` for the `metascore` column is listed as `int64`, indicating that all column values are integers as desired."
   ]
  },
  {
   "cell_type": "code",
   "execution_count": 6,
   "metadata": {},
   "outputs": [
    {
     "name": "stdout",
     "output_type": "stream",
     "text": [
      "There are 0 values in the metascore column where the metascore falls outside of the valid 0..100 range.\n"
     ]
    }
   ],
   "source": [
    "num_invalid_metascores = len(albums_df[(albums_df[\"metascore\"] > 100)|(albums_df[\"metascore\"] < 0)])\n",
    "print(\"There are \" + str(num_invalid_metascores) + \" values in the metascore column where the metascore falls outside of the valid 0..100 range.\")"
   ]
  },
  {
   "cell_type": "markdown",
   "metadata": {},
   "source": [
    "We can therefore conclude that all values in the `metascore` column are valid.\n",
    "\n",
    "The `user_score` column, however, is slightly more difficult to analyze, given that we already know from the data collection process that `\"tbd\"` can appear as a value in this column. Therefore, we want to check that each value in the `user_score` column that is not equivalent to `\"tbd\"` is a valid float (i.e., a float in the range 0.0..10.0, rounded to exactly one significant figure.)"
   ]
  },
  {
   "cell_type": "code",
   "execution_count": 7,
   "metadata": {
    "collapsed": true
   },
   "outputs": [],
   "source": [
    "# creating DataFrame with all rows in which user_score = \"tbd\" removed\n",
    "albums_filtered = albums_df[albums_df[\"user_score\"] != \"tbd\"].copy()"
   ]
  },
  {
   "cell_type": "code",
   "execution_count": 8,
   "metadata": {
    "collapsed": true
   },
   "outputs": [],
   "source": [
    "# converting all values in user_score column to float\n",
    "user_score_as_float = albums_filtered[\"user_score\"].astype(float)\n",
    "albums_filtered.loc[:, \"user_score\"] = user_score_as_float"
   ]
  },
  {
   "cell_type": "code",
   "execution_count": 9,
   "metadata": {},
   "outputs": [
    {
     "data": {
      "text/plain": [
       "0       8.8\n",
       "1       9.1\n",
       "2       8.7\n",
       "3       8.4\n",
       "4       9.0\n",
       "5       7.7\n",
       "6       7.9\n",
       "7       7.5\n",
       "8       8.4\n",
       "9       7.1\n",
       "10      7.5\n",
       "11      8.7\n",
       "12      7.5\n",
       "13      8.5\n",
       "14      7.9\n",
       "15      8.2\n",
       "16      8.7\n",
       "17      8.6\n",
       "18      8.0\n",
       "19      6.9\n",
       "20      6.9\n",
       "21      8.2\n",
       "22      8.6\n",
       "23      7.5\n",
       "24      7.6\n",
       "25      7.6\n",
       "26      7.3\n",
       "27      8.6\n",
       "28      7.8\n",
       "29      8.6\n",
       "       ... \n",
       "1044    8.3\n",
       "1047    8.8\n",
       "1048    8.3\n",
       "1049    8.1\n",
       "1050    8.5\n",
       "1052    8.3\n",
       "1053    8.3\n",
       "1054    8.6\n",
       "1055    6.9\n",
       "1056    8.1\n",
       "1057    8.2\n",
       "1058    8.5\n",
       "1059    8.1\n",
       "1060    8.8\n",
       "1061    8.8\n",
       "1062    8.3\n",
       "1063    8.6\n",
       "1064    8.7\n",
       "1068    8.5\n",
       "1070    7.8\n",
       "1074    8.5\n",
       "1075    8.5\n",
       "1076    7.7\n",
       "1077    7.3\n",
       "1078    7.8\n",
       "1079    8.8\n",
       "1080    6.8\n",
       "1081    8.5\n",
       "1082    7.9\n",
       "1083    8.1\n",
       "Name: user_score, Length: 920, dtype: float64"
      ]
     },
     "execution_count": 9,
     "metadata": {},
     "output_type": "execute_result"
    }
   ],
   "source": [
    "albums_filtered.loc[:, \"user_score\"]"
   ]
  },
  {
   "cell_type": "markdown",
   "metadata": {},
   "source": [
    "As seen above, since the `dtype` of the `user_score` column (for the DataFrame `albums_filtered`) is now listed as `float64`, our above conversion was successful. We can now check that values in the `user_score` column are indeed floats in the 0.0..10.0 range:"
   ]
  },
  {
   "cell_type": "code",
   "execution_count": 10,
   "metadata": {},
   "outputs": [
    {
     "name": "stdout",
     "output_type": "stream",
     "text": [
      "There are 0 values in the user_score column where the user_score falls outside of the valid 0.0..10.0 range.\n"
     ]
    }
   ],
   "source": [
    "num_invalid_userscores = len(albums_filtered[(albums_filtered[\"user_score\"] > 10.0)|(albums_filtered[\"user_score\"] < 0.0)])\n",
    "print(\"There are \" + str(num_invalid_userscores) + \" values in the user_score column where the user_score falls outside of the valid 0.0..10.0 range.\")"
   ]
  },
  {
   "cell_type": "markdown",
   "metadata": {},
   "source": [
    "We therefore conclude that all non-`\"tbd\"` values in the `user_score` column of our dataset are valid scores. Before we proceed to other columsn, however, it might help to check how many values in the `user_score` column are listed as `\"tbd\"`:"
   ]
  },
  {
   "cell_type": "code",
   "execution_count": 11,
   "metadata": {},
   "outputs": [
    {
     "name": "stdout",
     "output_type": "stream",
     "text": [
      "There are 164 values in the user_score column listed as \"tbd\", out of 1084 values total.\n",
      "This represents approximately 15.1% of total values.\n"
     ]
    }
   ],
   "source": [
    "num_tbd = len(albums_df) - len(albums_filtered)\n",
    "print(\"There are \" + str(num_tbd) + \" values in the user_score column listed as \\\"tbd\\\", out of \" + str(len(albums_df)) + \" values total.\")\n",
    "print(\"This represents approximately \" + str(round(num_tbd/len(albums_df), 3)*100) + \"% of total values.\")"
   ]
  },
  {
   "cell_type": "markdown",
   "metadata": {},
   "source": [
    "It does not seem that an excessive amount of albums received a `\"tbd\"` rating in terms of `user_score`, which indicates that, for almost `85%` of all albums in the dataset, we can still analyze any potential relationship between the amount of profanity in an album and the album's Metacritic user reception.\n",
    "\n",
    "Now, having examined the `metascore` and `user_score` columns, we now move to the `release_date` column."
   ]
  },
  {
   "cell_type": "markdown",
   "metadata": {},
   "source": [
    "# Exploring the `release_date` Column"
   ]
  },
  {
   "cell_type": "markdown",
   "metadata": {},
   "source": [
    "For this column, we want all dates to be arranged in `d-mmm-yy` format (ex: 1-Jan-2018, or 28-May-2019). This will make parsing the dates easier during data analysis, should we need (for instance) to obtain the particular year an album is released. We therefore check that this format is followed:"
   ]
  },
  {
   "cell_type": "code",
   "execution_count": 12,
   "metadata": {},
   "outputs": [
    {
     "name": "stdout",
     "output_type": "stream",
     "text": [
      "There are 0 values in the release_date column with invalid values and/or improper formatting.\n"
     ]
    }
   ],
   "source": [
    "num_improperly_formatted_dates = 0\n",
    "\n",
    "# Mapping month names to number of days in each month.\n",
    "# Special case of leap years are handled later in code.\n",
    "month_mapping = {\n",
    "    \"Jan\": 31,\n",
    "    \"Feb\": 28,\n",
    "    \"Mar\": 31,\n",
    "    \"Apr\": 30,\n",
    "    \"May\": 31,\n",
    "    \"Jun\": 30,\n",
    "    \"Jul\": 31,\n",
    "    \"Aug\": 31,\n",
    "    \"Sep\": 30,\n",
    "    \"Oct\": 31,\n",
    "    \"Nov\": 30,\n",
    "    \"Dec\": 31\n",
    "}\n",
    "\n",
    "for _, row in albums_df.iterrows():\n",
    "    release_date = row[\"release_date\"]\n",
    "    date_parts = release_date.split(\"-\")\n",
    "    # release_date does not follow x-y-z format, for some strings x, y, z\n",
    "    if len(date_parts) != 3:\n",
    "        num_improperly_formatted_dates += 1\n",
    "    else:\n",
    "        day = date_parts[0]\n",
    "        month = date_parts[1]\n",
    "        year = date_parts[2]\n",
    "        if month not in month_mapping:\n",
    "            num_improperly_formatted_dates += 1\n",
    "        else:\n",
    "            if len(day) < 1 or len(day) > 2 or len(year) != 2:\n",
    "                num_improperly_formatted_dates += 1\n",
    "            else:         \n",
    "                try:\n",
    "                    day_as_int = int(day)\n",
    "                    year_as_int = int(year)\n",
    "                    num_days = month_mapping[month]\n",
    "                    # handling leap year cases\n",
    "                    if month == \"Feb\" and year_as_int % 4 == 0:\n",
    "                        num_days = 29\n",
    "                    if day_as_int < 1 or day_as_int > num_days:\n",
    "                        num_improperly_formatted_dates += 1\n",
    "                except ValueError:\n",
    "                    num_improperly_formatted_dates += 1\n",
    "\n",
    "print(\"There are\", str(num_improperly_formatted_dates), \"values in the release_date column with invalid values and/or improper formatting.\")"
   ]
  },
  {
   "cell_type": "markdown",
   "metadata": {},
   "source": [
    "It therefore appears that all values in the `release_date` column are valid dates, and are structured as we desire. We finally now can turn to the `lyrics` column."
   ]
  },
  {
   "cell_type": "markdown",
   "metadata": {},
   "source": [
    "# Exploring the `lyrics` Column"
   ]
  },
  {
   "cell_type": "markdown",
   "metadata": {},
   "source": [
    "This column is arguably expected to be the most problematic one, given that, for any random album in our dataset, we are not guaranteed that all album lyrics will be available on Genius (the site which we scraped lyrics data from.) We can estimate the severity of this problem by finding the number of albums that have no stored lyrics at all:"
   ]
  },
  {
   "cell_type": "code",
   "execution_count": 13,
   "metadata": {},
   "outputs": [
    {
     "name": "stdout",
     "output_type": "stream",
     "text": [
      "There are 0 albums with their lyrics invalidly formatted.\n",
      "Out of 1084 correctly formatted album entries, there are 299 albums with no lyrics stored in the dataset.\n",
      "This represents approximately 27.6% of correctly formatted album entries.\n"
     ]
    }
   ],
   "source": [
    "# the number of entries that are not stored as a string representation of a list (\"[...]\")\n",
    "num_invalidly_formatted = 0\n",
    "\n",
    "num_no_lyrics = 0\n",
    "\n",
    "# maps index of album for which no lyrics are stored to a tuple (album_title, album_artist)\n",
    "error_title_artist_mapping = {}\n",
    "\n",
    "for index, row in albums_df.iterrows():\n",
    "    if len(re.findall(\"\\[.*\\]\", row[\"lyrics\"])) != 1:\n",
    "        num_invalidly_formatted += 1\n",
    "    elif len(row[\"lyrics\"]) == 2:\n",
    "        error_title_artist_mapping[index] = (row[\"title\"], row[\"artist\"])\n",
    "        num_no_lyrics += 1\n",
    "print(\"There are\", num_invalidly_formatted, \"albums with their lyrics invalidly formatted.\")\n",
    "print(\"Out of\", len(albums_df) - num_invalidly_formatted, \"correctly formatted album entries, there are\", num_no_lyrics, \"albums with no lyrics stored in the dataset.\")\n",
    "print(\"This represents approximately \" + str(round(num_no_lyrics/(len(albums_df) - num_invalidly_formatted), 3)*100) + \"% of correctly formatted album entries.\")"
   ]
  },
  {
   "cell_type": "markdown",
   "metadata": {},
   "source": [
    "Although there are no albums with their lyrics improperly formatted, over a quarter of the albums in our dataset have no lyrics stored at all. Granted, instrumental albums are fairly common, and it is reasonable to assume that Genius would not have lyrics data for all of the albums in our dataset; but the possibility still remains that the lyrics scraping performed during data collection was not sufficient.\n",
    "\n",
    "To get better insight into this issue, we can examine the titles and artist names of those albums that have no lyrics data stored, since we relied on album title and album artist name to construct (and subsequently scrape from) Genius URLs:"
   ]
  },
  {
   "cell_type": "code",
   "execution_count": 14,
   "metadata": {},
   "outputs": [
    {
     "data": {
      "text/plain": [
       "{5: (\"We're New Again: A Reimagining by Makaya McCraven\", 'Gil Scott-Heron'),\n",
       " 15: ('Walking Proof', 'Lilly Hiatt'),\n",
       " 23: ('We Are Sent Here by History', 'Shabaka & the Ancestors'),\n",
       " 33: ('Heavy Light', 'U.S. Girls'),\n",
       " 34: ('Rejoice', 'Tony Allen'),\n",
       " 35: ('Football Money', 'Kiwi Jr.'),\n",
       " 36: ('Companion Rises', 'Six Organs of Admittance'),\n",
       " 38: ('England Is a Garden', 'Cornershop'),\n",
       " 39: ('Map of the Soul: 7', 'BTS'),\n",
       " 41: ('Nijimusi', 'OOIOO'),\n",
       " 43: ('UNLOCKED', 'Denzel Curry'),\n",
       " 44: ('Let It All In', 'Arbouretum'),\n",
       " 46: ('Three', 'The Necks'),\n",
       " 51: ('Ghosts V: Together', 'Nine Inch Nails'),\n",
       " 55: ('La Vita Nuova', 'Maria McKee'),\n",
       " 59: ('X: The Godless Void and Other Stories',\n",
       "  '...And You Will Know Us by the Trail of Dead'),\n",
       " 64: ('Ghosts VI: Locusts', 'Nine Inch Nails'),\n",
       " 68: ('Big Exercise', 'Homesick'),\n",
       " 70: ('The Allegory', 'Royce da 5\\'9\"'),\n",
       " 74: ('Are You in Love?', 'Basia Bulat'),\n",
       " 75: ('Through Water', 'Låpsley'),\n",
       " 79: ('Rakka', 'Vladislav Delay'),\n",
       " 92: ('Beat Poetry for Survivalists', 'Luke Haines'),\n",
       " 100: ('Ghosteen', 'Nick Cave & the Bad Seeds'),\n",
       " 103: ('Gold & Grey', 'Baroness'),\n",
       " 108: ('LEGACY! LEGACY!', 'Jamila Woods'),\n",
       " 117: ('Bandana', 'Freddie Gibbs'),\n",
       " 119: ('U.F.O.F.', 'Big Thief'),\n",
       " 122: ('Norman Fucking Rockwell!', 'Lana Del Rey'),\n",
       " 124: ('thank u, next', 'Ariana Grande'),\n",
       " 125: ('Midsommar [Original Motion Picture Soundtrack]', 'Bobby Krlic'),\n",
       " 126: ('House of Sugar', '(Sandy) Alex G'),\n",
       " 136: ('Amadjar', 'Tinariwen'),\n",
       " 137: ('Life Metal', 'Sunn O)))'),\n",
       " 141: ('Miss Universe', 'Nilüfer Yanya'),\n",
       " 160: ('Henryk Górecki: Symphony No. 3 \"Symphony of Sorrowful Songs\" [Live]',\n",
       "  'Beth Gibbons'),\n",
       " 167: ('uknowhatimsayin¿', 'Danny Brown'),\n",
       " 171: (\"While I'm Livin'\", 'Tanya Tucker'),\n",
       " 179: ('Miri', 'Bassekou Kouyate & Ngoni Ba'),\n",
       " 186: ('When We All Fall Asleep, Where Do We Go?', 'Billie Eilish'),\n",
       " 189: ('Resonant Body', 'Octo Octa'),\n",
       " 191: ('I Made a Place', 'Bonnie \"Prince\" Billy'),\n",
       " 199: ('Sirens', 'Kevin Richard Martin'),\n",
       " 208: ('POST-', 'Jeff Rosenstock'),\n",
       " 212: ('Dirty Computer', 'Janelle Monáe'),\n",
       " 216: ('Cocoon Crush', 'Objekt'),\n",
       " 220: ('In a Poem Unlimited', 'U.S. Girls'),\n",
       " 227: ('Tracyanne & Danny', 'Tracyanne & Danny'),\n",
       " 229: ('Remain In Light', 'Angélique Kidjo'),\n",
       " 230: ('Heaven & Earth', 'Kamasi Washington'),\n",
       " 231: ('Radyo Siwèl', 'Mélissa Laveaux'),\n",
       " 234: ('(After) [Live]', 'Mount Eerie'),\n",
       " 236: ('Phantom Thread [Original Motion Picture Soundtrack]',\n",
       "  'Jonny Greenwood'),\n",
       " 240: ('Glass', 'Alva Noto'),\n",
       " 245: ('Things Have Changed', 'Bettye LaVette'),\n",
       " 246: (\"I'm All Ears\", \"Let's Eat Grandma\"),\n",
       " 249: ('Gave in Rest', 'Sarah Davachi'),\n",
       " 261: ('Body', 'The Necks'),\n",
       " 264: ('Insula', 'Proc Fiskal'),\n",
       " 268: ('Sparkle Hard', 'Stephen Malkmus & the Jicks'),\n",
       " 270: ('Listening to Pictures (Pentimento Volume I)', 'Jon Hassell'),\n",
       " 277: (\"Everything's Fine\", 'Jean Grae'),\n",
       " 280: (\"Don't Look Away\", 'Alexander Tucker'),\n",
       " 281: ('Autobiography', 'Jlin'),\n",
       " 285: ('Look Now', 'Elvis Costello & the Imposters'),\n",
       " 293: ('Follow Them True', 'Stick in the Wheel'),\n",
       " 296: ('Street Safari', 'Public Access T.V.'),\n",
       " 300: ('DAMN.', 'Kendrick Lamar'),\n",
       " 304: ('Eternity, In Your Arms', 'Creeper'),\n",
       " 308: ('Masseduction', 'St. Vincent'),\n",
       " 311: ('Laila’s Wisdom', 'Rapsody'),\n",
       " 312: ('The Thin Black Duke', 'Oxbow'),\n",
       " 320: (\"For Sale: Live at Maxwell's 1986\", 'The Replacements'),\n",
       " 322: ('Narkopop', 'Gas'),\n",
       " 324: ('50 Song Memoir', 'Magnetic Fields'),\n",
       " 328: ('Soul of a Woman', 'Sharon Jones & the Dap-Kings'),\n",
       " 330: ('All We Know of Heaven, All We Need of Hell', 'PVRIS'),\n",
       " 346: ('A Pocket of Wind Resistance', 'Karine Polwart'),\n",
       " 347: ('Flower Boy', 'Tyler, The Creator'),\n",
       " 365: ('Super Natural', 'Jim Jones & The Righteous Mind'),\n",
       " 366: ('A Common Truth', 'Saltland'),\n",
       " 374: ('Gargoyle', 'Mark Lanegan Band'),\n",
       " 379: ('L.A Witch', 'L.A. Witch'),\n",
       " 380: ('Pangs', 'Alasdair Roberts'),\n",
       " 383: ('Arpo', 'Call Super'),\n",
       " 386: ('Stubborn Persistent Illusions', 'Do Make Say Think'),\n",
       " 389: ('Utopia', 'Björk'),\n",
       " 392: ('Gang Signs & Prayer', 'Stormzy'),\n",
       " 394: ('Ty Segall (2017)', 'Ty Segall'),\n",
       " 399: ('Towards Language', 'Arve Henriksen'),\n",
       " 400: ('Skeleton Tree', 'Nick Cave & the Bad Seeds'),\n",
       " 401: ('Lemonade', 'Beyoncé'),\n",
       " 403: ('We Got It From Here...Thank You 4 Your Service',\n",
       "  'A Tribe Called Quest'),\n",
       " 404: ('Coloring Book [Mixtape]', 'Chance the Rapper'),\n",
       " 415: ('You Will Never Be One of Us', 'NAILS'),\n",
       " 416: ('22, A Million', 'Bon Iver'),\n",
       " 419: ('Love & Hate', 'Michael Kiwanuka'),\n",
       " 420: (\"blackSUMMERS'night (2016)\", 'Maxwell'),\n",
       " 426: ('Nerissimo', 'Teho Teardo'),\n",
       " 427: ('untitled unmastered.', 'Kendrick Lamar'),\n",
       " 430: ('Malibu', 'Anderson .Paak'),\n",
       " 434: ('Winter Wheat', 'John K. Samson'),\n",
       " 436: ('Before the Dawn [Live]', 'Kate Bush'),\n",
       " 450: ('DJ-Kicks', 'Moodymann'),\n",
       " 454: (\"Sorrow: Reimagining of Gorecki's 3rd Symphony\", 'Colin Stetson'),\n",
       " 457: ('Stranger Things, Vol. 1 [Original Television Series Soundtrack]',\n",
       "  'Kyle Dixon'),\n",
       " 458: ('Nonagon Infinity', 'King Gizzard & the Lizard Wizard'),\n",
       " 459: ('case/lang/veirs', 'Neko Case'),\n",
       " 464: ('Scheherazade', 'Freakwater'),\n",
       " 468: ('The Narrows', 'Grant-Lee Philips'),\n",
       " 473: ('Hubris', 'Oren Ambarchi'),\n",
       " 474: (\"America's National Parks\", 'Wadada Leo Smith'),\n",
       " 475: ('If You See Me, Say Yes', 'Flock of Dimes'),\n",
       " 476: ('Whole & Cloven', 'Nathan Bowles'),\n",
       " 477: ('Blue and Lonesome', 'The Rolling Stones'),\n",
       " 479: ('The Peace & Truce of Future of the Left', 'Future of the Left'),\n",
       " 486: ('I Had a Dream That You Were Mine', 'Hamilton Leithauser'),\n",
       " 492: ('NOTU_URONLINEU', 'Hi:Emotions'),\n",
       " 494: ('Love Songs, Pt. 2', 'Romare'),\n",
       " 495: ('Black Peak', 'Xylouris White'),\n",
       " 498: ('Running out of Love', 'The Radio Dept.'),\n",
       " 500: ('Carrie & Lowell', 'Sufjan Stevens'),\n",
       " 502: ('Apex Predator - Easy Meat', 'Napalm Death'),\n",
       " 504: ('Hand.Cannot.Erase.', 'Steven Wilson'),\n",
       " 506: ('Sometimes I Sit And Think, And Sometimes I Just Sit',\n",
       "  'Courtney Barnett'),\n",
       " 508: ('From Kinshasa', 'Mbongwana Star'),\n",
       " 513: ('John Howard & the Night Mail', 'John Howard & The Night Mail'),\n",
       " 514: ('Ten Love Songs', 'Susanne Sundfør'),\n",
       " 517: (\"Summertime '06\", 'Vince Staples'),\n",
       " 518: ('Vulnicura', 'Björk'),\n",
       " 519: ('I Love You, Honeybear', 'Father John Misty'),\n",
       " 520: ('Remembering Mountains: Unheard Songs By Karen Dalton',\n",
       "  'Various Artists'),\n",
       " 526: (\"It's Great to Be Alive! [Live]\", 'Drive-By Truckers'),\n",
       " 527: ('Joy of Living: A Tribute to Ewan Maccoll', 'Various Artists'),\n",
       " 528: ('Simple Songs', \"Jim O'Rourke\"),\n",
       " 529: ('Surf', 'Donnie Trumpet & The Social Experiment'),\n",
       " 536: ('Over and Even', 'Joan Shelley'),\n",
       " 537: ('Ba Power', 'Bassekou Kouyate & Ngoni Ba'),\n",
       " 538: ('King Push - Darkest Before Dawn: The Prelude', 'Pusha T'),\n",
       " 543: ('Levon Vincent', 'Levon Vincent'),\n",
       " 547: ('Etch And Etch Deep', 'Haiku Salut'),\n",
       " 549: ('Mr. Misunderstood', 'Eric Church'),\n",
       " 554: ('Asunder, Sweet and Other Distress', 'Godspeed You! Black Emperor'),\n",
       " 555: ('I Abused Animal', 'Heather Leigh'),\n",
       " 556: ('The Bad Plus Joshua Redman', 'The Bad Plus'),\n",
       " 564: ('LP [2015]', 'Container'),\n",
       " 570: ('Safe', 'Visionist'),\n",
       " 572: ('Infinite Dissolution', 'Locrian'),\n",
       " 573: (\"B'lieve I'm Goin' Down\", 'Kurt Vile'),\n",
       " 576: ('Life', 'Dan Friel'),\n",
       " 580: (\"Don't Lose This\", 'Roebuck \"Pops\" Staples'),\n",
       " 582: (\"Anxiety's Kiss\", 'Coliseum'),\n",
       " 584: ('The Most Important Place in the World', 'Bill Wells'),\n",
       " 585: ('Male Eunuch', 'The Pre New'),\n",
       " 587: ('Compton', 'Dr. Dre'),\n",
       " 588: (\"Africa Express Presents...Terry Riley's In C Mali\", 'Africa Express'),\n",
       " 589: ('Grey Tickles, Black Pressure', 'John Grant'),\n",
       " 590: ('Piteous Gate', 'M.E.S.H.'),\n",
       " 593: ('Cortar Todo', 'Zu'),\n",
       " 595: ('Zoy Zoy', 'Tal National'),\n",
       " 597: ('Never Were the Way She Was', 'Sarah Neufeld'),\n",
       " 598: ('Black Messiah', \"D'Angelo\"),\n",
       " 600: ('Home, Like Noplace Is There', 'The Hotelier'),\n",
       " 601: ('St. Vincent', 'St. Vincent'),\n",
       " 602: ('RTJ2', 'Run the Jewels'),\n",
       " 606: ('Cadillactica', 'Big K.R.I.T.'),\n",
       " 607: (\"You're Dead!\", 'Flying Lotus'),\n",
       " 608: ('The River & the Thread', 'Rosanne Cash'),\n",
       " 611: ('Bécs', 'Fennesz'),\n",
       " 621: ('The Weird and Wonderful', 'The Marmozets'),\n",
       " 625: ('Meshes of Voice', 'Jenny Hval & Susanna'),\n",
       " 627: (\"The Way I'm Livin'\", 'Lee Ann Womack'),\n",
       " 628: ('The Serpent & the Sphere', 'Agalloch'),\n",
       " 639: ('Angels & Devils', 'The Bug'),\n",
       " 652: ('Soused', 'Sunn O)))'),\n",
       " 657: ('Toumani & Sidiki', 'Sidiki Diabate'),\n",
       " 659: ('Transgender Dysphoria Blues', 'Against Me!'),\n",
       " 660: ('Why Do the Heathen Rage?', 'The Soft Pink Truth'),\n",
       " 669: ('Tomorrow Was the Golden Age', 'Bing & Ruth'),\n",
       " 672: ('Piñata', 'Freddie Gibbs'),\n",
       " 681: ('Common Ground: Dave & Phil Alvin Play and Sing the Songs of Big Bill Broonzy',\n",
       "  'Phil Alvin'),\n",
       " 685: ('Last Dance', 'Keith Jarrett'),\n",
       " 690: ('Punish, Honey', 'Vessel'),\n",
       " 692: ('Quixotism', 'Oren Ambarchi'),\n",
       " 694: ('Jama Ko', 'Bassekou Kouyate & Ngoni Ba'),\n",
       " 708: ('Beautiful Africa', 'Rokia Traoré'),\n",
       " 710: ('From the Sea to the Land Beyond [OST]', 'British Sea Power'),\n",
       " 713: ('Without a Net', 'Wayne Shorter'),\n",
       " 714: ('Run the Jewels', 'Killer Mike'),\n",
       " 727: ('Beyoncé', 'Beyoncé'),\n",
       " 730: ('Divided & United: Songs of the Civil War', 'Various Artists'),\n",
       " 737: ('The Worse Things Get, the Harder I Fight, the Harder I Fight, the More I Love You',\n",
       "  'Neko Case'),\n",
       " 741: ('Man and Myth', 'Roy Harper'),\n",
       " 748: ('No Answer: Lower Floors', 'Wolf Eyes'),\n",
       " 750: ('Centralia', 'Mountains'),\n",
       " 751: ('Chatma', 'Tamikrest'),\n",
       " 753: ('Slave Vows', 'The Icarus Line'),\n",
       " 758: ('The Electric Lady', 'Janelle Monáe'),\n",
       " 759: ('...Like Clockwork', 'Queens of the Stone Age'),\n",
       " 774: ('Dig Thy Savage Soul', 'Barrence Whitfield & the Savages'),\n",
       " 781: ('John Wizards', 'John Wizards'),\n",
       " 784: ('The Inheritors', 'James Holden'),\n",
       " 786: ('Kaani', 'Tal National'),\n",
       " 788: ('Push the Sky Away', 'Nick Cave & the Bad Seeds'),\n",
       " 790: (\"Pushin' Against a Stone\", 'Valerie June'),\n",
       " 791: ('Ten Freedom Summers', 'Wadada Leo Smith'),\n",
       " 794: ('Good Kid, M.A.A.D City', 'Kendrick Lamar'),\n",
       " 796: ('Accelerando', 'Vijay Iyer Trio'),\n",
       " 800: ('Fetch', 'Moritz von Oswald Trio'),\n",
       " 801: ('Music For the Quiet Hour/The Drawbar Organ EPs', 'Shackleton'),\n",
       " 804: ('Bouger le Monde!', 'Staff Benda Bilili'),\n",
       " 806: ('Young Man In America', 'Anaïs Mitchell'),\n",
       " 813: ('Locked Down', 'Dr. John'),\n",
       " 815: ('Mermaid Avenue: The Complete Sessions', 'Billy Bragg/Wilco'),\n",
       " 820: ('Celebration Day [Live]', 'Led Zeppelin'),\n",
       " 821: ('Big Inner', 'Matthew E. White'),\n",
       " 822: ('Ode', 'Brad Mehldau Trio'),\n",
       " 824: ('R.A.P. Music', 'Killer Mike'),\n",
       " 826: ('1991 [EP]', 'Azealia Banks'),\n",
       " 827: ('Cancer4Cure', 'El-P'),\n",
       " 828: ('Living for a Song: A Tribute to Hank Cochran', 'Jamey Johnson'),\n",
       " 830: ('Ghosts', 'Monolake'),\n",
       " 835: ('TNGHT [EP]', 'TNGHT'),\n",
       " 838: ('We Rose from Your Bed with the Sun in Our Head [Live]', 'Swans'),\n",
       " 847: ('The Defenestration of St. Martin', 'Martin Rossiter'),\n",
       " 850: ('Look Around the Corner', 'Alice Russell'),\n",
       " 852: ('Angels of Darkness, Demons of Light, Vol. 2', 'Earth'),\n",
       " 853: ('Sebenza', 'L.V.'),\n",
       " 855: ('Yellow & Green', 'Baroness'),\n",
       " 856: ('Europe', \"Allo Darlin'\"),\n",
       " 858: ('Quarter Turns Over a Living Line', 'Raime'),\n",
       " 861: ('Theatre Is Evil', 'Amanda Palmer & the Grand Theft Orchestra'),\n",
       " 862: ('Limbo', 'Eric Copeland'),\n",
       " 864: ('Words & Music by Saint Etienne', 'Saint Etienne'),\n",
       " 868: ('Cut the World [Live]', 'Antony and the Johnsons'),\n",
       " 869: ('Desertshore/The Final Report', 'X-TG'),\n",
       " 874: ('Nashville, Vol. 1: Tear the Woodpile Down',\n",
       "  'Marty Stuart & His Fabulous Superlatives'),\n",
       " 875: ('R.I.P.', 'Actress'),\n",
       " 879: ('The Violence', 'Darren Hayman & the Long Parliament'),\n",
       " 880: ('Movement', 'Holly Herndon'),\n",
       " 882: (\"'Allelujah! Don't Bend! Ascend!\", 'Godspeed You! Black Emperor'),\n",
       " 886: ('If...', 'Bill Ryder-Jones'),\n",
       " 900: ('Who Kill', 'tUnE-yArDs'),\n",
       " 902: ('Floreat', 'Mara Carlyle'),\n",
       " 904: (\"Stone Rollin'\", 'Raphael Saadiq'),\n",
       " 906: ('Ravedeath, 1972', 'Tim Hecker'),\n",
       " 914: ('Strange Mercy', 'St. Vincent'),\n",
       " 915: ('The Harrow and the Harvest', 'Gillian Welch'),\n",
       " 920: ('Bird Songs', 'Joe Lovano Us Five'),\n",
       " 922: ('A.H.A.T.H.H.A.F.T.C.T.T.C.O.T.E.', 'True Widow'),\n",
       " 923: ('The Office of Future Plans', 'The Office of Future Plans'),\n",
       " 925: ('Pinch & Shackleton', 'Shackleton'),\n",
       " 926: (\"The Miner's Hymns\", 'Johann Johannsson'),\n",
       " 927: ('Wondervisions', 'Delicate Steve'),\n",
       " 929: ('Nostalgia, Ultra.', 'Frank Ocean'),\n",
       " 930: ('Looping State of Mind', 'The Field'),\n",
       " 931: ('Hot Sauce Committee, Pt. 2', 'Beastie Boys'),\n",
       " 936: ('Tryptych', 'Demdike Stare'),\n",
       " 940: ('Scandalous', 'Black Joe Lewis & the Honeybears'),\n",
       " 953: ('New History Warfare, Vol. 2: Judges', 'Colin Stetson'),\n",
       " 955: ('Canary', 'Southeast Engine'),\n",
       " 957: ('Build a Rocket Boys!', 'Elbow'),\n",
       " 958: ('El Tren Fantasma', 'Chris Watson'),\n",
       " 959: ('Weather', \"Me'Shell Ndegéocello\"),\n",
       " 961: ('Angels of Darkness, Demons of Light, Vol. 1', 'Earth'),\n",
       " 968: ('From Africa With Fury: Rise', 'Seun Kuti & Egypt 80'),\n",
       " 970: (\"Everything's Getting Older\", 'Aidan Moffat'),\n",
       " 976: ('The Secret', 'Vieux Farka Touré'),\n",
       " 979: ('Tirtha', 'Vijay Iyer'),\n",
       " 981: ('The Randy Newman Songbook, Vol. 2', 'Randy Newman'),\n",
       " 984: ('Deep Politics', 'Grails'),\n",
       " 987: ('The ArchAndroid', 'Janelle Monáe'),\n",
       " 989: ('Sir Lucious Left Foot: The Son of Chico Dusty', 'Big Boi'),\n",
       " 990: ('Ali & Toumani', 'Ali Farka Toure And Toumani Diabate'),\n",
       " 991: ('The Witmark Demos: 1962-1964', 'Bob Dylan'),\n",
       " 993: ('Silent Movies', 'Marc Ribot'),\n",
       " 997: ('This Is Still It', 'The Method Actors'),\n",
       " 1000: ('Assume Crash Position', 'Konono No. 1'),\n",
       " 1006: ('Quarantine The Past', 'Pavement'),\n",
       " 1013: ('Ten', 'Jason Moran'),\n",
       " 1016: ('New Amerykah Part Two: Return of the Ankh', 'Erykah Badu'),\n",
       " 1018: ('Ø (Disambiguation)', 'Underoath'),\n",
       " 1023: ('Blackjazz', 'Shining'),\n",
       " 1027: ('Eyes & Nines', 'Trash Talk'),\n",
       " 1030: ('Royal Toast', 'The Claudia Quintet'),\n",
       " 1040: ('Pattern + Grid World', 'Flying Lotus'),\n",
       " 1041: ('For the Ghosts Within', 'Gilad Atzmon'),\n",
       " 1042: ('Bears, Mayors, Scraps & Bones', 'Cancer Bats'),\n",
       " 1045: ('Funeral Mariachi', 'Sun City Girls'),\n",
       " 1046: ('Couple Tracks: Singles 2002-2009', 'Fucked Up'),\n",
       " 1048: ('True Love Cast Out All Evil', 'Roky Erickson With Okkervil River'),\n",
       " 1051: ('Solo', 'Vijay Iyer'),\n",
       " 1063: ('Going Places', 'Yellow Swans'),\n",
       " 1064: ('I Learned The Hard Way', 'Sharon Jones & the Dap-Kings'),\n",
       " 1066: ('Boca Negra', 'Chicago Underground Duo'),\n",
       " 1067: ('Recitation', 'Envy'),\n",
       " 1071: ('Infinite Love', 'Dustin Wong'),\n",
       " 1073: ('Micah P. Hinson and the Pioneer Saboteurs', 'Micah P. Hinson'),\n",
       " 1077: ('Real Life Is No Cool', 'Lindstrom & Christabelle')}"
      ]
     },
     "execution_count": 14,
     "metadata": {},
     "output_type": "execute_result"
    }
   ],
   "source": [
    "error_title_artist_mapping"
   ]
  },
  {
   "cell_type": "markdown",
   "metadata": {},
   "source": [
    "A quick glance through these results seems to indicate that albums that feature titles with punctuation, or albums that were made by artist whose names feature puntuation or accents, tend to have no lyrics stored in the dataset."
   ]
  },
  {
   "cell_type": "code",
   "execution_count": 15,
   "metadata": {},
   "outputs": [
    {
     "name": "stdout",
     "output_type": "stream",
     "text": [
      "Out of the 299 albums flagged above, 178 contain punctuation either in the album title or the album artist name.\n",
      "This represents approximately 59.5% of flagged albums.\n"
     ]
    }
   ],
   "source": [
    "num_punctuation = 0\n",
    "for title, artist in error_title_artist_mapping.values():\n",
    "    if any(char in string.punctuation for char in title) or any(char in string.punctuation for char in artist):\n",
    "        num_punctuation += 1\n",
    "print(\"Out of the\", len(error_title_artist_mapping), \"albums flagged above,\", num_punctuation, \"contain punctuation\\\n",
    " either in the album title or the album artist name.\")\n",
    "print(\"This represents approximately \" + str(round(num_punctuation/(len(error_title_artist_mapping)), 3)*100) + \"% of flagged albums.\")"
   ]
  },
  {
   "cell_type": "markdown",
   "metadata": {},
   "source": [
    "To present why punctuation would cause an issue, consider the following example centered around *DAMN.* by Kendrick Lamar. During data collection, we constructed a Genius URL for each album as follows:"
   ]
  },
  {
   "cell_type": "code",
   "execution_count": 16,
   "metadata": {
    "scrolled": true
   },
   "outputs": [
    {
     "name": "stdout",
     "output_type": "stream",
     "text": [
      "This yields the following Genius URL: http://genius.com/albums/Kendrick-lamar/Damn-\n"
     ]
    }
   ],
   "source": [
    "artist_name = \"Kendrick Lamar\"\n",
    "album_title = \"DAMN.\"\n",
    "\n",
    "artist_no_punc = re.sub(\"[\" + string.punctuation + \"]\", \" \", artist_name)\n",
    "title_no_punc = re.sub(\"[\" + string.punctuation + \"]\", \" \", album_title)\n",
    "\n",
    "reformatted_artist_name = \"-\".join(artist_no_punc.lower().split(\" \")).capitalize()\n",
    "reformatted_album_name = \"-\".join(title_no_punc.lower().split(\" \")).capitalize()\n",
    "\n",
    "# construct URL we expect to correspond to Genius overview page on album\n",
    "genius_url = \"http://genius.com/albums/\" + reformatted_artist_name + \"/\" + reformatted_album_name\n",
    "\n",
    "print(\"This yields the following Genius URL:\", genius_url)"
   ]
  },
  {
   "cell_type": "markdown",
   "metadata": {},
   "source": [
    "Due to the period at the end of *DAMN.*, the URL our data collection algorithm constructed is now invalid. We should have ended up with the URL http://genius.com/albums/Kendrick-lamar/Damn, which would then have given us all available lyrics data for this album.\n",
    "\n",
    "It would therefore be a good idea to explore this problem further, and potentially revise the above code taken from the data collection algorithm so as to better account for albums containing punctuation either in their titles or artist names. In this way, we can try to ensure that we collect as much lyrics data as possible, and not erronously omit any albums simply because we constructed the incorrect URL to use for web scraping."
   ]
  }
 ],
 "metadata": {
  "kernelspec": {
   "display_name": "Python 3",
   "language": "python",
   "name": "python3"
  },
  "language_info": {
   "codemirror_mode": {
    "name": "ipython",
    "version": 3
   },
   "file_extension": ".py",
   "mimetype": "text/x-python",
   "name": "python",
   "nbconvert_exporter": "python",
   "pygments_lexer": "ipython3",
   "version": "3.6.1"
  }
 },
 "nbformat": 4,
 "nbformat_minor": 2
}
