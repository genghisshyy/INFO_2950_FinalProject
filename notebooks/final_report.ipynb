{
 "cells": [
  {
   "cell_type": "code",
   "execution_count": 1,
   "metadata": {
    "collapsed": true
   },
   "outputs": [],
   "source": [
    "import pandas\n",
    "import numpy as np\n",
    "import re\n",
    "import string"
   ]
  },
  {
   "cell_type": "markdown",
   "metadata": {},
   "source": [
    "# Introduction"
   ]
  },
  {
   "cell_type": "markdown",
   "metadata": {},
   "source": [
    "On September 28, 1984, the hit single \"Let's Go Crazy\" by Prince and The Revolution climbed to the top of the U.S. Billboard charts (\"Chart History: Prince\"), becoming the first song to ever top Billboard despite being marked as \"explicit\" (Ross). Since then, songs featuring explicit content have become increasingly popular, with recent studies of Billboard chart data revealing that the proportion of Billboard number-one singles with explicit content has surged from below 10% in 1984 to over 60% in 2017 (Bannister.) This in turn raises the question: **given the recent rise in commercial success of explicit music, has critical reception of explicit music similarly improved over the years?**\n",
    "\n",
    "To answer this question, I began by scraping data from Metacritic (https://www.metacritic.com/music, a website that aggregates various critic reviews of music, among other forms of entertainment) and Genius (https://genius.com/, a website centered around song lyrics and music news). Specifically, I focused on exploring Metacritic's top 50 to top 100 most critically acclaimed albums every year from 2010 to 2020. Using lyrical data from Genius, I computed the specific percentage and quantity of explicit content on each of these albums, and found that in general..."
   ]
  },
  {
   "cell_type": "markdown",
   "metadata": {},
   "source": [
    "<div style=\"border-bottom: 4px solid #AAA; padding-bottom: 6px; font-size: 16px; font-weight: bold;\"></div>"
   ]
  },
  {
   "cell_type": "markdown",
   "metadata": {},
   "source": [
    "# Data Description"
   ]
  },
  {
   "cell_type": "markdown",
   "metadata": {},
   "source": [
    "As aforementioned, the dataset utilized in this study was manually constructed by scraping web data from Metacritic and Genius. We explore this dataset in further detail below:"
   ]
  },
  {
   "cell_type": "markdown",
   "metadata": {},
   "source": [
    "### What are the observations and the attributes of this dataset?\n",
    "\n",
    "Each observation in this dataset represents an album, with the entire set of observations representing a collection of the 75 best-ranked and 75 worst-ranked albums by Metacritic for each year from 2011 to 2020. (*Note:* Each album's average critical reception is calculated by Metacritic, and is subsequently used to give each album a score from 0 to 100. It is this aggregate score that is then used to rank all albums released each year. All rankings used in this study were accurate as of May 18, 2020.) For each of these 1,500 albums, nine attributes are stored in the dataset:\n",
    "\n",
    "1. the name of the album artist; \n",
    "2. the *metascore*, or the average critic score (on an integer scale from 0-100) that the album received on Metacritic; \n",
    "3. the title of the album; \n",
    "4. the average user score (on a decimal scale from 0.0-10.0) that the album received from Metacritic users;\n",
    "5. the date on which the album was released;\n",
    "6. a list of all available album lyrics on Genius, separated by track;\n",
    "7. the number of album tracks that feature lyrics on Genius;\n",
    "8. the total number of \"explicit\" words the entire album contains (based off the album's available lyrics); and\n",
    "9. the average number of \"explicit\" words per track (again, only when considering tracks that feature lyrics on Genius)."
   ]
  },
  {
   "cell_type": "markdown",
   "metadata": {},
   "source": [
    "### Why was this dataset created?\n",
    "\n",
    "This dataset was created solely for the purpose of carrying out this study, and therefore is meant to facilitate analysis of any potential relationships between the amount of profanity in an album and the album’s critical reception."
   ]
  },
  {
   "cell_type": "markdown",
   "metadata": {},
   "source": [
    "### Who funded the creation of this dataset?\n",
    "\n",
    "There were no significant funds necessary to create this dataset, and indeed no grant associated with this dataset either."
   ]
  },
  {
   "cell_type": "markdown",
   "metadata": {},
   "source": [
    "### What processes might have influenced what data was observed and recorded and what was not?\n",
    "\n",
    "For one, Metacritic itself already prevents certain releases from being included in their year-end album rankings, noting, “Only albums with seven or more reviews are eligible. EPs, live albums, box sets, re-issues, and compilations are also excluded” (\"Best Music and Albums for 2020\"). Therefore, all projects deemed “ineligible” by Metacritic are not included in this study's dataset either.\n",
    "\n",
    "In addition, album lyrics data might not be collected for every track of every album, given that Genius does not include a lyrics page for every possible track of every album in the dataset. (For example, Genius does not provide lyrics for the last six tracks of *Grassed In* by Australian rock band Blank Realm.)"
   ]
  },
  {
   "cell_type": "markdown",
   "metadata": {},
   "source": [
    "### What preprocessing was done, and how did the data come to be in the form that you are using?\n",
    "\n",
    "Since this dataset was constructed manually for the purpose of carrying out this study, there was no point where an already-compiled dataset had to be pre-processed. However, the process of building this dataset was fairly similar to the usual stage of pre-processing, and therefore is explained below:"
   ]
  },
  {
   "cell_type": "markdown",
   "metadata": {},
   "source": [
    "##### Scraping Basic Album Information from Metacritic\n",
    "\n",
    "First, album data for Metacritic’s 75 best-ranked and 75 worst-ranked albums (for each year from 2011 to 2020) was collected by copying and pasting directly from Metacritic web pages to a Microsoft Excel spreadsheet. (An example of one such web page can be found [here](https://www.metacritic.com/browse/albums/score/metascore/year/filtered?view=condensed&sort=desc).) Overall, data for 1,500 albums was collected, and subsequently arranged in ten different columns (one for each year.) In each of these columns, every set of five rows (beginning with the set of rows 0, 1, 2, 3, and 4) represented a single album, with the rows corresponded to the following album data:\n",
    "\n",
    "- Row 0: the name of the album artist\n",
    "- Row 1: the metascore, or the average critic score (on a scale from 0-100) that the album received on Metacritic\n",
    "- Row 2: the title of the album\n",
    "- Row 3: the average user score (on a scale from 0.0-10.0) that the album received from Metacritic users\n",
    "- Row 4: the date on which the album was released\n",
    "\n",
    "With this row structure in mind, the spreadsheet was converted to a CSV file (comma-separated values file), which was then converted to a Pandas DataFrame object for further data processing. From there, by iterating through the values of each column in the DataFrame object (which corresponded to the columns of the spreadsheet), a dictionary representing each album could be constructed for each set of five rows, in each of the ten columns. An example of one such dictionary is given below:\n",
    "\n",
    "`{'artist': 'Car Seat Headrest',\n",
    "'metascore': '76',\n",
    "'release_date': '1-May-20',\n",
    "'title': 'Making a Door Less Open',\n",
    "'user_score': '7.1'}`\n",
    "\n",
    "This process therefore culminated in ten lists of dictionaries, one for each year from 2011 to 2020."
   ]
  },
  {
   "cell_type": "markdown",
   "metadata": {},
   "source": [
    "##### Scraping Album Lyrics from Genius (Part 1)\n",
    "\n",
    "To obtain album lyrics data, a Genius URL was dynamically constructed for each album in the dataset, using the artist name and album title (ex: http://genius.com/albums/The-weeknd/After-hours, where \"The Weeknd\" is the artist name and *After Hours* is the album title.) Each of these Genius URLs contains an overview on the album in question, including a tracklist and links to pages for all available track lyrics. Lyrics were then scraped from each of these lyrics pages using the Python libraries `requests` and `BeautifulSoup`, and subsequently stored in the appropriate dictionary to lead to each dictionary featuring the following format:\n",
    "\n",
    "`{\"artist\": (name of album artist),\n",
    "\"metascore\": (average critic score that album received on Metacritic),\n",
    "\"release_date\": (day on which album was released in the format d-mmm-yy, e.g. 6-Mar-20),\n",
    "\"title\": (title of album),\n",
    "\"user_score\": (average user score that album received on Metacritic),\n",
    "\"lyrics\": (a list of strings, where each string is a concatenation of all lyrics from a single track on the album),\n",
    "\"num_lyric_tracks\": (the number of album tracks that had lyrics available on Genius)}`"
   ]
  },
  {
   "cell_type": "markdown",
   "metadata": {},
   "source": [
    "##### Scraping Lyrics from Genius (Part 2)\n",
    "\n",
    "At this point, however, preliminary analysis of this dataset revealed that approximately 27.6% of all album entries did not have any scraped lyrics. Granted, some of these albums were found to be purely instrumental records, while other albums simply were not included in the Genius lyrics database. However, it did seem apparent that the appearance of punctuation in the title of an album or the name of its artist was causing invalid Genius URL's to be generated during the initial lyrics scraping process discussed above. Therefore, additional lyrics scraping had to be performed.\n",
    "\n",
    "More specifically, two new algorithms for lyrics scraping were developed. The first of these (which will be referred to as the \"normal alternative\" algorithm) accounts for the presence of ampersands in album titles or album artist names by replacing all ampersands with the word \"and.\" (For example, if the album *Look Now* by Elvis Costello & The Imposters were to be examined, running this algorithm would lead to \"https://genius.com/albums/Elvis-costello-and-the-imposters/Look-now\" being generated as opposed to \"http://genius.com/albums/Elvis-costello---the-imposters/Look-now\" like before.) Additionally, this algorithm removes all other punctuation marks as opposed to replacing punctuation marks with spaces. (This was designed to handle specific edge cases such as the one illustrated by *DAMN.* by Kendrick Lamar. Using the initial algorithm, the period at the end of *DAMN.* would be replaced by a space, which in turn led to http://genius.com/albums/Kendrick-lamar/Damn- being generated instead of http://genius.com/albums/Kendrick-lamar/Damn as desired.)\n",
    "\n",
    "In addition to this updated algorithm, a second algorithm was created, which simply used manually scraped URL's to access lyrics data. In other words, for each album that still did not have any stored lyrics after the initial and the \"normal alternative\" algorithms were executed, the correct URL (if one existed) was manually recovered through web searches, and subsequently used to scrape all available lyrics data."
   ]
  },
  {
   "cell_type": "markdown",
   "metadata": {},
   "source": [
    "##### Gathering Data on Explicit Content for Each Album"
   ]
  },
  {
   "cell_type": "markdown",
   "metadata": {},
   "source": [
    "Having completed the lyrics scraping phase, data on the amount of explicit content in each album could be collected. To begin with, a list of \"explicit\" words was gathered manually, based off my own personal experience. The complete list is given below for reference:"
   ]
  },
  {
   "cell_type": "code",
   "execution_count": 1,
   "metadata": {
    "collapsed": true
   },
   "outputs": [],
   "source": [
    "# This is not a comprehensive list of \"explicit\" words, but rather a compilation\n",
    "# of \"explicit\" words that I myself have come across in music. The inclusion of\n",
    "# these words here is strictly for research purposes.\n",
    "explicit_list = [\n",
    "    \"arse\",\n",
    "    \"ass\",\n",
    "    \"asshole\",\n",
    "    \"bastard\",\n",
    "    \"bitch\",\n",
    "    \"bullshit\",\n",
    "    \"cocaine\",\n",
    "    \"cock\",\n",
    "    \"coke\",\n",
    "    \"damn\",\n",
    "    \"dick\",\n",
    "    \"drug\",\n",
    "    \"drugs\",\n",
    "    \"faggot\",\n",
    "    \"fentanyl\",\n",
    "    \"fuck\",\n",
    "    \"fucka\",\n",
    "    \"fucker\",\n",
    "    \"fuckin\",\n",
    "    \"fucking\",\n",
    "    \"goddamn\",\n",
    "    \"hell\",\n",
    "    \"horseshit\",\n",
    "    \"mothafucka\",\n",
    "    \"mothafuckas\",\n",
    "    \"motherfucka\",\n",
    "    \"motherfuckas\",\n",
    "    \"motherfucker\",\n",
    "    \"motherfuckers\"\n",
    "    \"nigga\",\n",
    "    \"niggas\",\n",
    "    \"nigger\",\n",
    "    \"niggers\",\n",
    "    \"perc\",\n",
    "    \"percocet\",\n",
    "    \"pill\",\n",
    "    \"pills\",\n",
    "    \"pussy\",\n",
    "    \"sex\",\n",
    "    \"shit\",\n",
    "    \"slut\",\n",
    "    \"whore\"\n",
    "]"
   ]
  },
  {
   "cell_type": "markdown",
   "metadata": {},
   "source": [
    "Using this list, the number of \"explicit\" words that appeared in every album's lyrics could be recorded, in addition to the average number of \"explicit\" words that appear per album track. Both of these attributes were then appropriately stored in the dataset for each of the 1,500 albums."
   ]
  },
  {
   "cell_type": "markdown",
   "metadata": {},
   "source": [
    "##### Exporting Data to CSV File\n",
    "\n",
    "Finally, the ten lists of dictionaries were combined into a single list containing all dataset observations. This list was then converted into a Pandas DataFrame object, which was subsequently exported to a CSV (comma-separated values) file for convenient storage and access. For a more programmatic overview of this data collection process, please see..."
   ]
  },
  {
   "cell_type": "markdown",
   "metadata": {},
   "source": [
    "### If people are involved, were they aware of this data collection and if so, what purpose did they expect the data to be used for?\n",
    "\n",
    "No people were involved in the process of collecting data (in terms of getting surveyed for personal information), as all data was simply scraped off of web pages already available online."
   ]
  },
  {
   "cell_type": "markdown",
   "metadata": {},
   "source": [
    "### Where can your raw source data be found, if applicable?\n",
    "\n",
    "The raw, unprocessed data scraped from Metacritic is available [here](https://github.com/genghisshyy/INFO_2950_FinalProject/blob/master/data/metacritic_data.csv), while the final processed dataset can be found [here](https://github.com/genghisshyy/INFO_2950_FinalProject/blob/master/data/albums.csv)."
   ]
  },
  {
   "cell_type": "markdown",
   "metadata": {},
   "source": [
    "<div style=\"border-bottom: 4px solid #AAA; padding-bottom: 6px; font-size: 16px; font-weight: bold;\"></div>"
   ]
  },
  {
   "cell_type": "markdown",
   "metadata": {},
   "source": [
    "# Data Analysis"
   ]
  },
  {
   "cell_type": "markdown",
   "metadata": {},
   "source": [
    "We begin by loading the dataset below:"
   ]
  },
  {
   "cell_type": "code",
   "execution_count": 3,
   "metadata": {},
   "outputs": [
    {
     "data": {
      "text/html": [
       "<div>\n",
       "<style>\n",
       "    .dataframe thead tr:only-child th {\n",
       "        text-align: right;\n",
       "    }\n",
       "\n",
       "    .dataframe thead th {\n",
       "        text-align: left;\n",
       "    }\n",
       "\n",
       "    .dataframe tbody tr th {\n",
       "        vertical-align: top;\n",
       "    }\n",
       "</style>\n",
       "<table border=\"1\" class=\"dataframe\">\n",
       "  <thead>\n",
       "    <tr style=\"text-align: right;\">\n",
       "      <th></th>\n",
       "      <th>artist</th>\n",
       "      <th>lyrics</th>\n",
       "      <th>metascore</th>\n",
       "      <th>release_date</th>\n",
       "      <th>title</th>\n",
       "      <th>user_score</th>\n",
       "    </tr>\n",
       "  </thead>\n",
       "  <tbody>\n",
       "    <tr>\n",
       "      <th>0</th>\n",
       "      <td>Fiona Apple</td>\n",
       "      <td>[\"\\n\\n\\nI've waited many years\\nEvery print I ...</td>\n",
       "      <td>100</td>\n",
       "      <td>17-Apr-20</td>\n",
       "      <td>Fetch the Bolt Cutters</td>\n",
       "      <td>8.8</td>\n",
       "    </tr>\n",
       "    <tr>\n",
       "      <th>1</th>\n",
       "      <td>Rina Sawayama</td>\n",
       "      <td>[\"\\n\\n\\nI'm losing myself\\nIn the darkness of ...</td>\n",
       "      <td>90</td>\n",
       "      <td>17-Apr-20</td>\n",
       "      <td>Sawayama</td>\n",
       "      <td>9.1</td>\n",
       "    </tr>\n",
       "    <tr>\n",
       "      <th>2</th>\n",
       "      <td>Laura Marling</td>\n",
       "      <td>[\"\\n\\n\\nWhat became of Alexandra\\nDid she make...</td>\n",
       "      <td>90</td>\n",
       "      <td>10-Apr-20</td>\n",
       "      <td>Song for Our Daughter</td>\n",
       "      <td>8.7</td>\n",
       "    </tr>\n",
       "    <tr>\n",
       "      <th>3</th>\n",
       "      <td>BC Camplight</td>\n",
       "      <td>['\\n\\n\\nThis afternoon I thought about Buckfas...</td>\n",
       "      <td>89</td>\n",
       "      <td>24-Apr-20</td>\n",
       "      <td>Shortly After Takeoff</td>\n",
       "      <td>8.4</td>\n",
       "    </tr>\n",
       "    <tr>\n",
       "      <th>4</th>\n",
       "      <td>Dua Lipa</td>\n",
       "      <td>[\"\\n\\n\\nFuture\\n(Future nostalgia)\\n(Future no...</td>\n",
       "      <td>89</td>\n",
       "      <td>27-Mar-20</td>\n",
       "      <td>Future Nostalgia</td>\n",
       "      <td>9.0</td>\n",
       "    </tr>\n",
       "  </tbody>\n",
       "</table>\n",
       "</div>"
      ],
      "text/plain": [
       "          artist                                             lyrics  \\\n",
       "0    Fiona Apple  [\"\\n\\n\\nI've waited many years\\nEvery print I ...   \n",
       "1  Rina Sawayama  [\"\\n\\n\\nI'm losing myself\\nIn the darkness of ...   \n",
       "2  Laura Marling  [\"\\n\\n\\nWhat became of Alexandra\\nDid she make...   \n",
       "3   BC Camplight  ['\\n\\n\\nThis afternoon I thought about Buckfas...   \n",
       "4       Dua Lipa  [\"\\n\\n\\nFuture\\n(Future nostalgia)\\n(Future no...   \n",
       "\n",
       "   metascore release_date                   title user_score  \n",
       "0        100    17-Apr-20  Fetch the Bolt Cutters        8.8  \n",
       "1         90    17-Apr-20                Sawayama        9.1  \n",
       "2         90    10-Apr-20   Song for Our Daughter        8.7  \n",
       "3         89    24-Apr-20   Shortly After Takeoff        8.4  \n",
       "4         89    27-Mar-20        Future Nostalgia        9.0  "
      ]
     },
     "execution_count": 3,
     "metadata": {},
     "output_type": "execute_result"
    }
   ],
   "source": [
    "albums = pandas.read_csv(\"../data/albums.csv\")\n",
    "albums.head()"
   ]
  },
  {
   "cell_type": "markdown",
   "metadata": {},
   "source": [
    "Since this study revolves around analyzing any potential relationships between the amount of explicit content on an album and that album's critical reception, it is reasonable to first "
   ]
  },
  {
   "cell_type": "markdown",
   "metadata": {},
   "source": [
    "<div style=\"border-bottom: 4px solid #AAA; padding-bottom: 6px; font-size: 16px; font-weight: bold;\"></div>"
   ]
  },
  {
   "cell_type": "markdown",
   "metadata": {},
   "source": [
    "# Acknowledgements"
   ]
  },
  {
   "cell_type": "markdown",
   "metadata": {},
   "source": [
    "All works cited are presented below:"
   ]
  },
  {
   "cell_type": "markdown",
   "metadata": {},
   "source": [
    "Bannister, Mark. \"The Billboard Hot 100: Exploring Six Decades of Number One \n",
    "     Singles.\" GitHub, Apr. 2017, [Repository Link](https://github.com/mspbannister/dand-p4-billboard/blob/master/Billboard_analysis__100417_.md#the-billboard-hot-100-exploring-six-decades-of-number-one-singles). Accessed 16 May 2020.\n",
    "     \n",
    "\"Best Music and Albums for 2020.\" Metacritic, [Page Link](https://www.metacritic.com/browse/albums/score/metascore/year/filtered?view=condensed&sort=desc). Accessed 16 May 2020.\n",
    "\n",
    "\"Chart History: Prince.\" Billboard, [Page Link](www.billboard.com/music/prince/chart-history/HSI/song/333454). Accessed 16 May 2020.\n",
    "\n",
    "Ross, Eleanor. \"Parental Advisory: How Songs with Explicit Content Came to \n",
    "     Dominate the Charts.\" Newsweek, 13 Apr. 2017, [Page Link](https://www.newsweek.com/songs-explicit-lyrics-popular-increase-billboard-spotify-583551). Accessed 16 May 2020. "
   ]
  }
 ],
 "metadata": {
  "kernelspec": {
   "display_name": "Python 3",
   "language": "python",
   "name": "python3"
  },
  "language_info": {
   "codemirror_mode": {
    "name": "ipython",
    "version": 3
   },
   "file_extension": ".py",
   "mimetype": "text/x-python",
   "name": "python",
   "nbconvert_exporter": "python",
   "pygments_lexer": "ipython3",
   "version": "3.6.1"
  }
 },
 "nbformat": 4,
 "nbformat_minor": 2
}
