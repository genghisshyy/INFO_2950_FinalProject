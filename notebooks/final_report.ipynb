{
 "cells": [
  {
   "cell_type": "code",
   "execution_count": 1,
   "metadata": {
    "collapsed": true
   },
   "outputs": [],
   "source": [
    "import pandas\n",
    "import numpy as np\n",
    "import matplotlib.pyplot as plt\n",
    "from sklearn.linear_model import LinearRegression"
   ]
  },
  {
   "cell_type": "markdown",
   "metadata": {},
   "source": [
    "# Introduction"
   ]
  },
  {
   "cell_type": "markdown",
   "metadata": {},
   "source": [
    "On September 28, 1984, the hit single \"Let's Go Crazy\" by Prince and The Revolution climbed to the top of the U.S. Billboard charts (\"Chart History: Prince\"), becoming the first song to ever top Billboard despite being marked as \"explicit\" (Ross). Since then, songs featuring explicit content have become increasingly popular, with recent studies of Billboard chart data revealing that the proportion of explicit Billboard number-one singles has surged from below 10% in 1984 to over 60% in 2017 (Bannister.) This in turn raises the question: **Given the current commercial success of explicit music over non-explicit music, is explicit music also more likely to receive stronger critical reception?**\n",
    "\n",
    "To answer this question, I began by scraping data from Metacritic (https://www.metacritic.com/music, a website that aggregates various critic reviews of music, among other forms of entertainment) and Genius (https://genius.com/, a website centered around song lyrics and music news). Specifically, I focused on exploring every album in the Metacritic database that was released in the last five years (2015-2019). Using lyrical data from Genius, I computed the specific quantity of explicit lyrics on each of these albums, and found that in general, **neither the presence nor the abundance of explicit lyrics on an album has any significant impact on its critical reception.** It instead seems more likely that music critics' album reviews are still based off a variety of different factors (i.e., production, vocal performance, thematic consistency, etc.) rather than the \"explicitness\" of an album alone. Therefore, this study certainly undermines the argument that music critics always give more praise to whatever albums are more popular at the moment (considering the current popularity of explicit music), as well as the argument that the mere appearance of explicit lyrics on an album notably harms the album's ability to receive critical acclaim."
   ]
  },
  {
   "cell_type": "markdown",
   "metadata": {},
   "source": [
    "<div style=\"border-bottom: 4px solid #AAA; padding-bottom: 6px; font-size: 16px; font-weight: bold;\"></div>"
   ]
  },
  {
   "cell_type": "markdown",
   "metadata": {},
   "source": [
    "# Data Description"
   ]
  },
  {
   "cell_type": "markdown",
   "metadata": {},
   "source": [
    "As aforementioned, the dataset utilized in this study (which can be found [here](https://github.com/genghisshyy/INFO_2950_FinalProject/blob/master/data/condensed_albums.csv)) was manually constructed by scraping web data from Metacritic and Genius. We explore this dataset in further detail below:"
   ]
  },
  {
   "cell_type": "markdown",
   "metadata": {},
   "source": [
    "### What are the observations and the attributes of this dataset?\n",
    "\n",
    "Each observation in this dataset represents an album, with the entire set of observations representing all albums in the Metacritic database that 1) were released in the 2015-2019 range, and 2) have at least some lyrics available on Genius. (Note: all album data used in this study is accurate as of May 20, 2020.) For each of these 2,816 albums, eight attributes are stored in the dataset:\n",
    "\n",
    "1. `artist`, the name of the album artist; \n",
    "2. `metascore`, the average critic score (on an integer scale from 0-100) that the album received on Metacritic; \n",
    "3. `num_lyric_tracks`, the number of album tracks that have lyrics available on Genius;\n",
    "4. `release_date`, the date on which the album was released;\n",
    "5. `title`, the title of the album; \n",
    "6. `user_score`, the average user score (on a decimal scale from 0.0-10.0) that the album received from Metacritic users;\n",
    "7. `explicit_count`, the total number of \"explicit\" words the entire album contains (based off the lyrics available on Genius); and\n",
    "8. `explicit_avg`, the average number of \"explicit\" words per track (again, only when considering tracks that have lyrics available on Genius).\n",
    "\n",
    "Below is the complete list of words considered \"explicit\" in this study. This is not a comprehensive list of \"explicit\" words, but rather a manually written compilation of words that are commonly regarded as \"explicit\" in the music industry."
   ]
  },
  {
   "cell_type": "code",
   "execution_count": 2,
   "metadata": {
    "collapsed": true
   },
   "outputs": [],
   "source": [
    "# The inclusion of these words here is strictly for research purposes.\n",
    "# They do not in any way represent or convey my personal views.\n",
    "explicit_list = [\n",
    "    \"arse\",\n",
    "    \"ass\",\n",
    "    \"asshole\",\n",
    "    \"assholes\",\n",
    "    \"bastard\",\n",
    "    \"bastards\",\n",
    "    \"bitch\",\n",
    "    \"bitches\",\n",
    "    \"bullshit\",\n",
    "    \"cocaine\",\n",
    "    \"cock\",\n",
    "    \"coke\",\n",
    "    \"damn\",\n",
    "    \"dick\",\n",
    "    \"drug\",\n",
    "    \"drugs\",\n",
    "    \"faggot\",\n",
    "    \"faggots\",\n",
    "    \"fentanyl\",\n",
    "    \"fuck\",\n",
    "    \"fucka\",\n",
    "    \"fucked\",\n",
    "    \"fucker\",\n",
    "    \"fuckin\",\n",
    "    \"fucking\",\n",
    "    \"fucks\",\n",
    "    \"goddamn\",\n",
    "    \"hell\",\n",
    "    \"horseshit\",\n",
    "    \"mothafucka\",\n",
    "    \"mothafuckas\",\n",
    "    \"motherfucka\",\n",
    "    \"motherfuckas\",\n",
    "    \"motherfucker\",\n",
    "    \"motherfuckers\"\n",
    "    \"motherfuckin\",\n",
    "    \"motherfucking\",\n",
    "    \"nigga\",\n",
    "    \"niggas\",\n",
    "    \"nigger\",\n",
    "    \"niggers\",\n",
    "    \"perc\",\n",
    "    \"percocet\",\n",
    "    \"pill\",\n",
    "    \"pills\",\n",
    "    \"pussy\",\n",
    "    \"sex\",\n",
    "    \"shit\",\n",
    "    \"slut\",\n",
    "    \"sluts\",\n",
    "    \"whore\",\n",
    "    \"whores\"\n",
    "]"
   ]
  },
  {
   "cell_type": "markdown",
   "metadata": {},
   "source": [
    "### Why was this dataset created?\n",
    "\n",
    "This dataset was created solely for the purpose of carrying out this study, and therefore is meant to facilitate analysis of any potential relationships between the amount of explicit content in an album and the album’s critical reception."
   ]
  },
  {
   "cell_type": "markdown",
   "metadata": {},
   "source": [
    "### Who funded the creation of this dataset?\n",
    "\n",
    "There were no significant funds necessary to create this dataset, and indeed no grant associated with this dataset either."
   ]
  },
  {
   "cell_type": "markdown",
   "metadata": {},
   "source": [
    "### What processes might have influenced what data was observed and recorded and what was not?\n",
    "\n",
    "For one, Metacritic itself already prevents certain releases from being included in their year-end album rankings, noting, “Only albums with seven or more reviews are eligible. EPs, live albums, box sets, re-issues, and compilations are also excluded” (\"Best Music and Albums for 2020\"). Therefore, all projects deemed “ineligible” by Metacritic are not included in this study's dataset.\n",
    "\n",
    "In addition, album lyrics data might not be collected completely for each album, given that Genius does not include a lyrics page for every track of every album in the dataset. (For example, Genius only provides lyrics for one of the eight tracks on *Far From Over* by Vijay Iyer.) Aside from this, part of the lyrics scraping process (described in further detail in the next section) involved manually searching for and recording relevant Genius URLs. Therefore, the potential presence of human error during this process could have led to incorrect or incomplete data being recorded.\n",
    "\n",
    "Finally, all albums that did not have any lyrics available on Genius were filtered out completely from the dataset. This decision was deemed strictly necessary: for without any available lyrics data, there would be no way of evaluating how much explicit content any of these albums contains."
   ]
  },
  {
   "cell_type": "markdown",
   "metadata": {},
   "source": [
    "### What preprocessing was done, and how did the data come to be in the form that you are using?\n",
    "\n",
    "The process of creating this dataset is explained below:"
   ]
  },
  {
   "cell_type": "markdown",
   "metadata": {},
   "source": [
    "##### Scraping Basic Album Information from Metacritic\n",
    "\n",
    "First, data for every album in the Metacritic database that was released in the 2015-2019 range was collected by copying and pasting directly from Metacritic web pages to a Microsoft Excel spreadsheet. (An example of one such web page can be found [here](https://www.metacritic.com/browse/albums/score/metascore/year/filtered?view=condensed&sort=desc).) Overall, data for 3,226 albums was collected, and subsequently arranged in five different columns (one for each year.) In each of these columns, every set of five rows (beginning with the set of rows 0, 1, 2, 3, and 4) represented a single album, with the rows corresponding to the following album data:\n",
    "\n",
    "- Row 0: the name of the album artist\n",
    "- Row 1: the metascore, or the average critic score (on a scale from 0-100) that the album received on Metacritic\n",
    "- Row 2: the title of the album\n",
    "- Row 3: the average user score (on a scale from 0.0-10.0) that the album received from Metacritic users\n",
    "- Row 4: the date on which the album was released\n",
    "\n",
    "With this row structure in mind, the spreadsheet was converted to a CSV file (comma-separated values file), which can be found [here](https://github.com/genghisshyy/INFO_2950_FinalProject/blob/master/data/metacritic_data_updated.csv). This file was then converted to a Pandas DataFrame object for further data processing. From there, by iterating through the values of each column in the DataFrame object (which corresponded to the columns of the spreadsheet), a dictionary representing each album could be constructed for each set of five values, in each of the five columns. An example of one such dictionary is given below:\n",
    "\n",
    "`{'artist': 'Kacey Musgraves',\n",
    "'metascore': '89',\n",
    "'release_date': '30-Mar-18',\n",
    "'title': 'Golden Hour',\n",
    "'user_score': '8.6'}`\n",
    "\n",
    "This process therefore culminated in five lists of dictionaries, one for each year from 2015 to 2019."
   ]
  },
  {
   "cell_type": "markdown",
   "metadata": {},
   "source": [
    "##### Scraping Album Lyrics from Genius (Part 1)\n",
    "\n",
    "To obtain album lyrics data, a Genius URL was dynamically constructed for each album in the dataset, using the artist name and album title (ex: https://genius.com/albums/Solange/When-i-get-home, where \"Solange\" is the artist name and *When I Get Home* is the album title.) Each of these Genius URLs contains an overview on the album in question, including a tracklist and links to pages for all available track lyrics. Lyrics were then scraped from each of these lyrics pages using the Python libraries `requests` and `BeautifulSoup`, and subsequently stored in the appropriate dictionary to lead to each dictionary featuring the following format:\n",
    "\n",
    "`{\"artist\": (name of album artist),\n",
    "\"metascore\": (average critic score that album received on Metacritic, on integer scale 0-100),\n",
    "\"release_date\": (day on which album was released in the format d-mmm-yy, e.g. 6-Mar-20),\n",
    "\"title\": (title of album),\n",
    "\"user_score\": (average user score that album received on Metacritic, on decimal scale 0.0-10.0),\n",
    "\"lyrics\": (a list of strings, where each string is a concatenation of all lyrics from a single track on the album),\n",
    "\"num_lyric_tracks\": (the number of album tracks that had lyrics available on Genius)}`"
   ]
  },
  {
   "cell_type": "markdown",
   "metadata": {},
   "source": [
    "##### Scraping Lyrics from Genius (Part 2)\n",
    "\n",
    "At this point, however, preliminary analysis of this dataset revealed that approximately a third of all album entries did not have any scraped lyrics. Granted, some of these albums were found to be purely instrumental records, while other albums simply were not included in the Genius lyrics database. However, it did seem apparent that the appearance of punctuation in the title of an album or the name of its artist was causing invalid Genius URLs to be generated during the initial lyrics scraping process discussed above. Therefore, additional lyrics scraping had to be performed.\n",
    "\n",
    "More specifically, two new algorithms for lyrics scraping were developed. The first of these (which will be referred to as the \"normal alternative\" algorithm) replaces all ampersands with the word \"and.\" (For example, if the album *Look Now* by Elvis Costello & The Imposters were to be examined, running this algorithm would lead to https://genius.com/albums/Elvis-costello-and-the-imposters/Look-now being generated as opposed to http://genius.com/albums/Elvis-costello---the-imposters/Look-now like before.) Additionally, this algorithm removes all other punctuation marks as opposed to replacing punctuation marks with spaces. (This was designed to handle specific edge cases such as the one illustrated by *DAMN.* by Kendrick Lamar. Using the initial algorithm, the period at the end of *DAMN.* would be replaced by a space, which in turn led to http://genius.com/albums/Kendrick-lamar/Damn- being generated instead of http://genius.com/albums/Kendrick-lamar/Damn as desired.)\n",
    "\n",
    "In addition to this updated algorithm, a second algorithm was created, which simply used manually scraped URLs to access lyrics data. In other words, for each album that still did not have any stored lyrics after the initial and the \"normal alternative\" algorithms were executed, the correct URL (if one existed) was manually recovered through web searches, and subsequently used to scrape all available lyrics data."
   ]
  },
  {
   "cell_type": "markdown",
   "metadata": {},
   "source": [
    "##### Gathering Data on Explicit Content for Each Album\n",
    "\n",
    "Once the lyrics scraping phase had finished, data on the amount of explicit content in each album could be collected. Using the list of explicit words given above in the *\"What are the attributes and the attributes of this dataset?\"* section, the number of explicit words that appeared in every album's lyrics was recorded, in addition to the average number of explicit words that appear per album track. Both of these attributes were then appropriately stored in the dataset for each of the 3,226 albums."
   ]
  },
  {
   "cell_type": "markdown",
   "metadata": {},
   "source": [
    "##### Filtering Out Albums with No Recorded Lyrics\n",
    "\n",
    "As explained in the previous section *\"What processes might have influenced what data was observed and recorded and what was not?\"*, there was no simple way of determining the quantity of explicit lyrics on an album if its lyrics were not available on Genius. Therefore, all albums that did not have any lyrics recorded in the dataset were filtered out completely, leaving 2,816 albums behind."
   ]
  },
  {
   "cell_type": "markdown",
   "metadata": {},
   "source": [
    "##### Exporting Data to CSV File\n",
    "\n",
    "Finally, a single list was created, containing all remaining dataset observations. This list was then converted into a Pandas DataFrame object, which was subsequently exported to a CSV file for convenient storage and access. The final, \"condensed\" dataset (found [here](https://github.com/genghisshyy/INFO_2950_FinalProject/blob/master/data/condensed_albums.csv)) does not include any of the actual album lyrics, so as to prevent it from becoming too large and unwieldy. However, the full dataset with all album lyrics can still be found [here](https://github.com/genghisshyy/INFO_2950_FinalProject/blob/master/data/full_albums.csv).\n",
    "\n",
    "For a more programmatic overview of this data collection process, please see the source code [here](https://github.com/genghisshyy/INFO_2950_FinalProject/blob/master/dataset_creation.py)."
   ]
  },
  {
   "cell_type": "markdown",
   "metadata": {},
   "source": [
    "### If people are involved, were they aware of this data collection and if so, what purpose did they expect the data to be used for?\n",
    "\n",
    "No people were involved in the process of collecting data (in terms of getting surveyed for personal information), as all data was simply scraped off of web pages already available online."
   ]
  },
  {
   "cell_type": "markdown",
   "metadata": {},
   "source": [
    "### Where can your raw source data be found, if applicable?\n",
    "\n",
    "The raw, unprocessed data scraped directly from Metacritic is available [here](https://github.com/genghisshyy/INFO_2950_FinalProject/blob/master/data/metacritic_data_updated.csv)."
   ]
  },
  {
   "cell_type": "markdown",
   "metadata": {},
   "source": [
    "<div style=\"border-bottom: 4px solid #AAA; padding-bottom: 6px; font-size: 16px; font-weight: bold;\"></div>"
   ]
  },
  {
   "cell_type": "markdown",
   "metadata": {},
   "source": [
    "# Data Analysis"
   ]
  },
  {
   "cell_type": "markdown",
   "metadata": {},
   "source": [
    "We begin by loading the dataset, a preview of which is displayed below:"
   ]
  },
  {
   "cell_type": "code",
   "execution_count": 3,
   "metadata": {},
   "outputs": [
    {
     "data": {
      "text/html": [
       "<div>\n",
       "<style>\n",
       "    .dataframe thead tr:only-child th {\n",
       "        text-align: right;\n",
       "    }\n",
       "\n",
       "    .dataframe thead th {\n",
       "        text-align: left;\n",
       "    }\n",
       "\n",
       "    .dataframe tbody tr th {\n",
       "        vertical-align: top;\n",
       "    }\n",
       "</style>\n",
       "<table border=\"1\" class=\"dataframe\">\n",
       "  <thead>\n",
       "    <tr style=\"text-align: right;\">\n",
       "      <th></th>\n",
       "      <th>artist</th>\n",
       "      <th>metascore</th>\n",
       "      <th>num_lyric_tracks</th>\n",
       "      <th>release_date</th>\n",
       "      <th>title</th>\n",
       "      <th>user_score</th>\n",
       "      <th>explicit_count</th>\n",
       "      <th>explicit_avg</th>\n",
       "    </tr>\n",
       "  </thead>\n",
       "  <tbody>\n",
       "    <tr>\n",
       "      <th>0</th>\n",
       "      <td>Nick Cave &amp; the Bad Seeds</td>\n",
       "      <td>96</td>\n",
       "      <td>11</td>\n",
       "      <td>4-Oct-19</td>\n",
       "      <td>Ghosteen</td>\n",
       "      <td>8.7</td>\n",
       "      <td>0</td>\n",
       "      <td>0.000000</td>\n",
       "    </tr>\n",
       "    <tr>\n",
       "      <th>1</th>\n",
       "      <td>Weyes Blood</td>\n",
       "      <td>91</td>\n",
       "      <td>11</td>\n",
       "      <td>5-Apr-19</td>\n",
       "      <td>Titanic Rising</td>\n",
       "      <td>9.0</td>\n",
       "      <td>0</td>\n",
       "      <td>0.000000</td>\n",
       "    </tr>\n",
       "    <tr>\n",
       "      <th>2</th>\n",
       "      <td>Little Simz</td>\n",
       "      <td>91</td>\n",
       "      <td>10</td>\n",
       "      <td>1-Mar-19</td>\n",
       "      <td>Grey Area</td>\n",
       "      <td>8.3</td>\n",
       "      <td>83</td>\n",
       "      <td>8.300000</td>\n",
       "    </tr>\n",
       "    <tr>\n",
       "      <th>3</th>\n",
       "      <td>Baroness</td>\n",
       "      <td>91</td>\n",
       "      <td>17</td>\n",
       "      <td>14-Jun-19</td>\n",
       "      <td>Gold &amp; Grey</td>\n",
       "      <td>7.4</td>\n",
       "      <td>3</td>\n",
       "      <td>0.176471</td>\n",
       "    </tr>\n",
       "    <tr>\n",
       "      <th>4</th>\n",
       "      <td>Raphael Saadiq</td>\n",
       "      <td>90</td>\n",
       "      <td>13</td>\n",
       "      <td>23-Aug-19</td>\n",
       "      <td>Jimmy Lee</td>\n",
       "      <td>5.8</td>\n",
       "      <td>15</td>\n",
       "      <td>1.153846</td>\n",
       "    </tr>\n",
       "  </tbody>\n",
       "</table>\n",
       "</div>"
      ],
      "text/plain": [
       "                      artist  metascore  num_lyric_tracks release_date  \\\n",
       "0  Nick Cave & the Bad Seeds         96                11     4-Oct-19   \n",
       "1                Weyes Blood         91                11     5-Apr-19   \n",
       "2                Little Simz         91                10     1-Mar-19   \n",
       "3                   Baroness         91                17    14-Jun-19   \n",
       "4             Raphael Saadiq         90                13    23-Aug-19   \n",
       "\n",
       "            title user_score  explicit_count  explicit_avg  \n",
       "0        Ghosteen        8.7               0      0.000000  \n",
       "1  Titanic Rising        9.0               0      0.000000  \n",
       "2       Grey Area        8.3              83      8.300000  \n",
       "3     Gold & Grey        7.4               3      0.176471  \n",
       "4       Jimmy Lee        5.8              15      1.153846  "
      ]
     },
     "execution_count": 3,
     "metadata": {},
     "output_type": "execute_result"
    }
   ],
   "source": [
    "albums = pandas.read_csv(\"../data/condensed_albums.csv\")\n",
    "albums.head()"
   ]
  },
  {
   "cell_type": "markdown",
   "metadata": {},
   "source": [
    "Since this study revolves around analyzing any potential relationships between the amount of explicit content on an album and that album's critical reception, it is reasonable to first explore the data available on each album's explicit content:"
   ]
  },
  {
   "cell_type": "markdown",
   "metadata": {},
   "source": [
    "##### Exploring Data on Explicit Album Content"
   ]
  },
  {
   "cell_type": "code",
   "execution_count": 4,
   "metadata": {},
   "outputs": [
    {
     "name": "stdout",
     "output_type": "stream",
     "text": [
      "There is an average of approximately 20.418 explicit words on each album in the dataset, with a standard deviation of approximately 67.731 explicit words.\n",
      "Additionally, there is an average of approximately 1.404 explicit words per track for each album in the dataset, with a standard deviation of approximately 4.346 explicit words per track.\n"
     ]
    }
   ],
   "source": [
    "# computing relevant means and standard deviations\n",
    "\n",
    "print(\"There is an average of approximately\", round(albums[\"explicit_count\"].mean(), 3), \\\n",
    "      \"explicit words on each album in the dataset, with a standard deviation of approximately\", \\\n",
    "      round(albums[\"explicit_count\"].std(), 3), \"explicit words.\")\n",
    "print(\"Additionally, there is an average of approximately\", round(albums[\"explicit_avg\"].mean(), 3), \\\n",
    "      \"explicit words per track for each album in the dataset, with a standard deviation of approximately\", \\\n",
    "      round(albums[\"explicit_avg\"].std(), 3), \"explicit words per track.\")"
   ]
  },
  {
   "cell_type": "markdown",
   "metadata": {},
   "source": [
    "We can also check the frequency distribution of 1) total explicit word counts, and 2) average explicit word counts per-track:"
   ]
  },
  {
   "cell_type": "code",
   "execution_count": 5,
   "metadata": {},
   "outputs": [
    {
     "data": {
      "image/png": "[encoded data removed]",
      "text/plain": [
       "<matplotlib.figure.Figure at 0x1093b4a90>"
      ]
     },
     "metadata": {},
     "output_type": "display_data"
    }
   ],
   "source": [
    "# creating histogram of explicit_count using full dataset\n",
    "\n",
    "plt.hist(albums[\"explicit_count\"], bins=15)\n",
    "plt.title(\"Frequency of Explicit Word Counts\")\n",
    "plt.xlabel(\"Number of Explicit Words on Album\")\n",
    "plt.ylabel(\"Number of Albums\")\n",
    "plt.show()"
   ]
  },
  {
   "cell_type": "code",
   "execution_count": 6,
   "metadata": {},
   "outputs": [
    {
     "data": {
      "image/png": "[encoded data removed]",
      "text/plain": [
       "<matplotlib.figure.Figure at 0x10944eb38>"
      ]
     },
     "metadata": {},
     "output_type": "display_data"
    }
   ],
   "source": [
    "# creating histogram of explicit_avg using full dataset\n",
    "\n",
    "plt.hist(albums[\"explicit_avg\"], bins=15)\n",
    "plt.title(\"Frequency of Average Explicit Word Counts per Track\")\n",
    "plt.xlabel(\"Average Number of Explicit Words per Track\")\n",
    "plt.ylabel(\"Number of Albums\")\n",
    "plt.show()"
   ]
  },
  {
   "cell_type": "markdown",
   "metadata": {},
   "source": [
    "Clearly, both of the above distributions are notably skewed left, with most albums in the dataset containining 100 or less explicit words (or roughly five or less explicit words per track.) The computed averages of 20.418 explicit words per album and 1.404 explicit words per track therefore seem at least partially inflated by a small number of albums featuring heavy explicit content (i.e., over 100 explicit words total, and as many as 600 in some cases.) Specifically, we can observe the following:"
   ]
  },
  {
   "cell_type": "code",
   "execution_count": 7,
   "metadata": {},
   "outputs": [
    {
     "name": "stdout",
     "output_type": "stream",
     "text": [
      "There are 1016 albums that contain no explicit words at all.\n",
      "This represents approximately 36.08% of the albums in the dataset.\n",
      "\n",
      "In contrast, only 163 albums contain more than 100 explicit words.\n",
      "This represents approximately 5.79% of the albums in the dataset.\n",
      "\n",
      "For further comparisons, there are 85 albums containing more than 200 explicit words, and 22 albums containing more \n",
      "than 400 explicit words.\n",
      "This represents approximately 3.02% and 0.78% of the albums in the dataset, respectively.\n"
     ]
    }
   ],
   "source": [
    "# number of albums with no explicit words\n",
    "num_clean_albums = len(albums[albums[\"explicit_count\"] == 0])\n",
    "\n",
    "print(\"There are\", num_clean_albums, \"albums that contain no explicit words at all.\")\n",
    "print(\"This represents approximately \" + str(round(num_clean_albums/len(albums)*100, 2)) \\\n",
    "      + \"% of the albums in the dataset.\\n\")\n",
    "\n",
    "# number of albums with over 100 explicit words\n",
    "num_fairly_explicit_albums = len(albums[albums[\"explicit_count\"] > 100])\n",
    "\n",
    "print(\"In contrast, only\", num_fairly_explicit_albums, \"albums contain more than 100 explicit words.\")\n",
    "print(\"This represents approximately \" + str(round(num_fairly_explicit_albums/len(albums)*100, 2)) \\\n",
    "      + \"% of the albums in the dataset.\\n\")\n",
    "\n",
    "# number of albums with over 200 explicit words\n",
    "num_very_explicit_albums = len(albums[albums[\"explicit_count\"] > 200])\n",
    "\n",
    "# number of albums with over 400 explicit words\n",
    "num_extremely_explicit_albums = len(albums[albums[\"explicit_count\"] > 400])\n",
    "\n",
    "print(\"For further comparisons, there are\", num_very_explicit_albums, \\\n",
    "      \"albums containing more than 200 explicit words, and\", num_extremely_explicit_albums, \\\n",
    "      \"albums containing more \\nthan 400 explicit words.\")\n",
    "print(\"This represents approximately \" + str(round(num_very_explicit_albums/len(albums)*100, 2)) \\\n",
    "      + \"%\" + \" and \" + str(round(num_extremely_explicit_albums/len(albums)*100, 2)) \\\n",
    "      + \"% of the albums in the dataset, respectively.\")"
   ]
  },
  {
   "cell_type": "markdown",
   "metadata": {},
   "source": [
    "With this in mind, we therefore recreate the above histograms, excluding all albums that contain more than 100 explicit words:"
   ]
  },
  {
   "cell_type": "code",
   "execution_count": 8,
   "metadata": {
    "scrolled": true
   },
   "outputs": [
    {
     "data": {
      "image/png": "[encoded data removed]",
      "text/plain": [
       "<matplotlib.figure.Figure at 0x1093800b8>"
      ]
     },
     "metadata": {},
     "output_type": "display_data"
    }
   ],
   "source": [
    "# creating histogram of explicit_count, while excluding albums containing more than 100 explicit words\n",
    "\n",
    "plt.hist(albums[albums[\"explicit_count\"] <= 100][\"explicit_count\"], bins=np.arange(0, 105, 5))\n",
    "plt.title(\"Frequency of Explicit Word Counts \\n(Excluding Albums with Over 100 Explicit Words)\")\n",
    "plt.xlabel(\"Number of Explicit Words on Album\")\n",
    "plt.ylabel(\"Number of Albums\")\n",
    "plt.show()"
   ]
  },
  {
   "cell_type": "code",
   "execution_count": 9,
   "metadata": {},
   "outputs": [
    {
     "data": {
      "image/png": "[encoded data removed]",
      "text/plain": [
       "<matplotlib.figure.Figure at 0x1098b6630>"
      ]
     },
     "metadata": {},
     "output_type": "display_data"
    }
   ],
   "source": [
    "# creating histogram of explicit_avg, while excluding albums containing more than 100 explicit words\n",
    "\n",
    "plt.hist(albums[albums[\"explicit_count\"] <= 100][\"explicit_avg\"], bins=np.arange(0, 11, 1))\n",
    "plt.title(\"Frequency of Average Explicit Word Counts per Track \\n(Excluding Albums with Over 100 Explicit Words)\")\n",
    "plt.xlabel(\"Average Number of Explicit Words per Track\")\n",
    "plt.ylabel(\"Number of Albums\")\n",
    "plt.show()"
   ]
  },
  {
   "cell_type": "markdown",
   "metadata": {},
   "source": [
    "Here, we observe that while the frequency distributions displayed above are still skewed left (due to many albums in the dataset containing no explicit lyrics at all), there still exists hundreds of albums that contain at least *some* explicit content. We now move to explore the critical reception the albums in the dataset received."
   ]
  },
  {
   "cell_type": "markdown",
   "metadata": {},
   "source": [
    "##### Exploring Data on Critical Reception\n",
    "\n",
    "As mentioned above, critical reception for each album is measured using `metascore`, an aggregate critical score in the 0-100 range computed by Metacritic."
   ]
  },
  {
   "cell_type": "code",
   "execution_count": 10,
   "metadata": {},
   "outputs": [
    {
     "name": "stdout",
     "output_type": "stream",
     "text": [
      "The average metascore of the albums in the dataset is approximately 75.351\n",
      "The standard deviation of album metascores is approximately 7.379\n"
     ]
    }
   ],
   "source": [
    "# computing mean and standard deviations of metascores\n",
    "\n",
    "print(\"The average metascore of the albums in the dataset is approximately\", round(albums[\"metascore\"].mean(), 3))\n",
    "print(\"The standard deviation of album metascores is approximately\", round(albums[\"metascore\"].std(), 3))"
   ]
  },
  {
   "cell_type": "markdown",
   "metadata": {},
   "source": [
    "It is also worth noting the general ranges which Metacritic divides the full 0-100 scale into:\n",
    "<br><br><img src=\"metacritic_ranges.jpg\">\n",
    "<center>([Source](https://www.metacritic.com/about-metascores))</center>"
   ]
  },
  {
   "cell_type": "markdown",
   "metadata": {},
   "source": [
    "We therefore see that on average, the albums in this dataset received \"generally favorable reviews,\" based off the average metascore of 75.351. We can also compute and visualize the distribution of the metascores in the dataset based off the above method of categorization:"
   ]
  },
  {
   "cell_type": "code",
   "execution_count": 11,
   "metadata": {
    "collapsed": true
   },
   "outputs": [],
   "source": [
    "# computing number of albums in each category\n",
    "\n",
    "num_universal_acclaim = len(albums[(albums[\"metascore\"] >= 81) & (albums[\"metascore\"] <= 100)])\n",
    "num_generally_favorable = len(albums[(albums[\"metascore\"] >= 61) & (albums[\"metascore\"] <= 80)])\n",
    "num_mixed_or_average = len(albums[(albums[\"metascore\"] >= 40) & (albums[\"metascore\"] <= 60)])\n",
    "num_generally_unfavorable = len(albums[(albums[\"metascore\"] >= 20) & (albums[\"metascore\"] <= 39)])\n",
    "num_overwhelming_dislike = len(albums[(albums[\"metascore\"] >= 0) & (albums[\"metascore\"] <= 19)])"
   ]
  },
  {
   "cell_type": "markdown",
   "metadata": {},
   "source": [
    "|                               | Number of Albums in Category | Percentage of Albums in Category |\n",
    "|:------------------------------|:----------------------------:|:--------------------------------:|\n",
    "| Universal Acclaim             | 695                          | 24.68%                           |\n",
    "| Generally Favorable Reviews   | 2013                         | 71.48%                           |\n",
    "| Mixed or Average Reviews      | 106                          | 3.76%                            |\n",
    "| Generally Unfavorable Reviews | 2                            | 0.07%                            |\n",
    "| Overwhelming Dislike          | 0                            | 0.00%                            |"
   ]
  },
  {
   "cell_type": "code",
   "execution_count": 12,
   "metadata": {
    "scrolled": true
   },
   "outputs": [
    {
     "data": {
      "image/png": "[encoded data removed]",
      "text/plain": [
       "<matplotlib.figure.Figure at 0x10950cdd8>"
      ]
     },
     "metadata": {},
     "output_type": "display_data"
    }
   ],
   "source": [
    "# creating histogram of metascores to visualize number of albums in each Metacritic category\n",
    "\n",
    "plt.hist(albums[\"metascore\"], bins=[0, 20, 40, 61, 81, 100])\n",
    "plt.title(\"Distribution of Album Metascores\")\n",
    "plt.xlabel(\"Metascore\")\n",
    "plt.ylabel(\"Number of Albums\")\n",
    "plt.show()"
   ]
  },
  {
   "cell_type": "markdown",
   "metadata": {},
   "source": [
    "Evidently, albums tend to receive generally positive reviews much more often than generally negative reviews, with zero albums in the dataset falling into the \"Overwhelming Dislike\" category and only two falling into the \"Generally Unfavorable Reviews\" category. Therefore, if the presence of explicit content on an album *does* have a perceptible impact on that album's critical reception, that impact is unlikely to be very drastic, given that most albums receive relatively favorable reviews anyways.\n",
    "\n",
    "Before moving on to linear regression analysis, it could be helpful to plot `explicit_count` vs. `metascore`, as well as `explicit_avg` vs. `metascore` to obtain a broad idea on how much the \"explicitness\" of an album impacts its metascore:"
   ]
  },
  {
   "cell_type": "code",
   "execution_count": 13,
   "metadata": {},
   "outputs": [
    {
     "data": {
      "image/png": "[encoded data removed]",
      "text/plain": [
       "<matplotlib.figure.Figure at 0x1094fe940>"
      ]
     },
     "metadata": {},
     "output_type": "display_data"
    }
   ],
   "source": [
    "# creating scatterplot for explicit_count vs. metascore\n",
    "\n",
    "plt.scatter(albums[\"explicit_count\"], albums[\"metascore\"])\n",
    "plt.xlabel(\"Number of Explicit Words on Album\")\n",
    "plt.ylabel(\"Metascore\")\n",
    "plt.title(\"Impact of Total Explicit Word Count on Metascore\")\n",
    "plt.show()"
   ]
  },
  {
   "cell_type": "code",
   "execution_count": 14,
   "metadata": {},
   "outputs": [
    {
     "data": {
      "image/png": "[encoded data removed]",
      "text/plain": [
       "<matplotlib.figure.Figure at 0x109aa6940>"
      ]
     },
     "metadata": {},
     "output_type": "display_data"
    }
   ],
   "source": [
    "# creating scatterplot for explicit_avg vs. metascore\n",
    "\n",
    "plt.scatter(albums[\"explicit_avg\"], albums[\"metascore\"])\n",
    "plt.xlabel(\"Average Number of Explicit Words Per Track\")\n",
    "plt.ylabel(\"Metascore\")\n",
    "plt.title(\"Impact of Average Explicit Word Count Per-Track on Metascore\")\n",
    "plt.show()"
   ]
  },
  {
   "cell_type": "markdown",
   "metadata": {},
   "source": [
    "Of course, these scatterplots alone are not sufficient enough to finalize any specific conclusion; but at least from this superficial perspective, it seems that neither the presence nor the frequency of explicit content on an album tends to cause a significant difference in critical reception. We now will use linear regression to more formally confirm these observations."
   ]
  },
  {
   "cell_type": "markdown",
   "metadata": {},
   "source": [
    "##### Linear Regression Analysis\n",
    "\n",
    "We first fit a linear regression that predicts `metascore` given `explicit_count`:"
   ]
  },
  {
   "cell_type": "code",
   "execution_count": 16,
   "metadata": {},
   "outputs": [
    {
     "name": "stdout",
     "output_type": "stream",
     "text": [
      "Regression slope (when predicting metascore given number of explicit words on album): -0.007863427084692324\n",
      "Regression intercept (when predicting metascore given number of explicit words on album): 75.5114074812\n",
      "r^2 score (when predicting metascore given number of explicit words on album): 0.00520989643345\n"
     ]
    }
   ],
   "source": [
    "# fitting linear model that predicts metascore given explicit_count\n",
    "count_metascore_model = LinearRegression().fit(albums[[\"explicit_count\"]], albums[\"metascore\"])\n",
    "\n",
    "# computing regression slope, intercept, and r^2 score\n",
    "print(\"Regression slope (when predicting metascore given number of explicit words on album):\", \\\n",
    "      float(count_metascore_model.coef_))\n",
    "print(\"Regression intercept (when predicting metascore given number of explicit words on album):\", \\\n",
    "      count_metascore_model.intercept_)\n",
    "print(\"r^2 score (when predicting metascore given number of explicit words on album):\", \\\n",
    "      count_metascore_model.score(albums[[\"explicit_count\"]], albums[\"metascore\"]))"
   ]
  },
  {
   "cell_type": "markdown",
   "metadata": {},
   "source": [
    "As expected, this model does not seem to indicate a notable linear relationship between the number of explicit words on an album and its critical reception. More specifically:\n",
    "\n",
    "- This model suggests that for every additional explicit word on an album, the album's metascore falls by approximately 0.00786. This is clearly a very negligible difference, as it would require roughly $\\frac{1}{0.00786}\\approx127$ explicit words on an album just to lower its metascore by 1.\n",
    "\n",
    "\n",
    "- In addition, this model suggests that when an album contains zero explicit words, its metascore is, on average, roughly 75.511. However, we can compute the average metascore of all albums that contain at least one explicit word:"
   ]
  },
  {
   "cell_type": "code",
   "execution_count": 17,
   "metadata": {},
   "outputs": [
    {
     "name": "stdout",
     "output_type": "stream",
     "text": [
      "The average metascore for albums with at least one explicit word is approximately 74.977\n"
     ]
    }
   ],
   "source": [
    "# computing average metascore of albums with explicit lyrics\n",
    "explicit_avg_metascore = albums[albums[\"explicit_count\"] > 0][\"metascore\"].mean()\n",
    "\n",
    "print(\"The average metascore for albums with at least one explicit word is approximately\", \\\n",
    "      round(explicit_avg_metascore, 3))"
   ]
  },
  {
   "cell_type": "markdown",
   "metadata": {},
   "source": [
    "We see that there is only a minor difference in average metascores, specifically a difference of $75.511 - 74.977 = 0.534$. Considering that metascores are calculated on an integer scale from 0-100, a difference of roughly half a point is fairly insignificant."
   ]
  },
  {
   "cell_type": "markdown",
   "metadata": {},
   "source": [
    "- Finally, the r^2 score of almost zero indicates that using a linear model that predicts `metascore` given `explicit_count` does not fit the data very well. In other words, this is yet another sign that there does not exist a linear relationship at all between `metascore` and `explicit_count`."
   ]
  },
  {
   "cell_type": "markdown",
   "metadata": {},
   "source": [
    "Now, we fit a linear regression that predicts `metascore` given `explicit_avg`:"
   ]
  },
  {
   "cell_type": "code",
   "execution_count": 18,
   "metadata": {},
   "outputs": [
    {
     "name": "stdout",
     "output_type": "stream",
     "text": [
      "Regression slope (when predicting metascore given average # of explicit words per album track): -0.1117368164823591\n",
      "Regression intercept (when predicting metascore given average # of explicit words per album track): 75.5077014787\n",
      "r^2 score (when predicting metascore given average # of explicit words per album track): 0.00433021173161\n"
     ]
    }
   ],
   "source": [
    "# fitting linear model that predicts metascore given explicit_avg\n",
    "avg_metascore_model = LinearRegression().fit(albums[[\"explicit_avg\"]], albums[\"metascore\"])\n",
    "\n",
    "# computing regression slope, intercept, and r^2 score\n",
    "print(\"Regression slope (when predicting metascore given average # of explicit words per album track):\", \\\n",
    "      float(avg_metascore_model.coef_))\n",
    "print(\"Regression intercept (when predicting metascore given average # of explicit words per album track):\", \\\n",
    "      avg_metascore_model.intercept_)\n",
    "print(\"r^2 score (when predicting metascore given average # of explicit words per album track):\", \\\n",
    "      avg_metascore_model.score(albums[[\"explicit_avg\"]], albums[\"metascore\"]))"
   ]
  },
  {
   "cell_type": "markdown",
   "metadata": {},
   "source": [
    "This model yields mostly the same insights as the previous model, as it implies the following:\n",
    "\n",
    "- For every additional explicit word per album track, that album's metascore falls by approximately 0.11174. Put differently, every increase of approximately $\\frac{1}{0.11174}\\approx9$ explicit words per track results in a one-point decrease in album metascore.\n",
    "\n",
    "\n",
    "- Albums that feature zero explicit words per track receive an average metascore of roughly 75.508. (This is, of course, approximately the same average metascore given to albums with no explicit words at all, as expected.)\n",
    "\n",
    "\n",
    "- The r^2 score of almost zero indicates that using a linear model that predicts `metascore` given `explicit_avg` does not explain the variation in the data very well."
   ]
  },
  {
   "cell_type": "markdown",
   "metadata": {},
   "source": [
    "Overall, it certainly seems that none of the evidence collected thus far supports the existence of any linear relationship between the amount of expliict content on an album and its critical reception."
   ]
  },
  {
   "cell_type": "markdown",
   "metadata": {},
   "source": [
    "<div style=\"border-bottom: 4px solid #AAA; padding-bottom: 6px; font-size: 16px; font-weight: bold;\"></div>"
   ]
  },
  {
   "cell_type": "markdown",
   "metadata": {},
   "source": [
    "# Evaluation of Significance"
   ]
  },
  {
   "cell_type": "markdown",
   "metadata": {},
   "source": [
    "Although neither of the linear regression models above revealed any notable patterns between the \"explicitness\" of an album and its critical reception, it still is reasonable to compare the results from above to simple randomness, using a permutation test. In this way, we can ensure that the results obtained above are unlikely to have arisen due to random chance.\n",
    "\n",
    "We begin by creating 10,000 random permutations of our `metascore` data using the `get_permutation()` function below. For each permutation, we then fit a linear regression that predicts the permutated data given the original `explicit_count` data, and save the resulting regression slope for later visualization:"
   ]
  },
  {
   "cell_type": "code",
   "execution_count": 20,
   "metadata": {
    "collapsed": true
   },
   "outputs": [],
   "source": [
    "# Returns a random permutation of the provided array, data.\n",
    "def get_permutation(data):\n",
    "    return np.random.permutation(data)"
   ]
  },
  {
   "cell_type": "code",
   "execution_count": 22,
   "metadata": {},
   "outputs": [],
   "source": [
    "# array to store the randomly generated regression slopes\n",
    "permutation_slopes_for_total = np.zeros(10000)\n",
    "\n",
    "for i in range(10000):\n",
    "    permutation = get_permutation(albums[\"metascore\"].copy())\n",
    "    \n",
    "    # fits a linear regression that predicts the permuted metascore data, \n",
    "    # given the original explicit_count data\n",
    "    model = LinearRegression().fit(albums[[\"explicit_count\"]], permutation)\n",
    "    \n",
    "    # stores regression slope of linear model above\n",
    "    permutation_slopes_for_total[i] = float(model.coef_)"
   ]
  },
  {
   "cell_type": "markdown",
   "metadata": {},
   "source": [
    "Having generated the 10,000 regression slopes, we now want to analyze how many of these slopes are more negative than the regression slope of `count_metascore_model` (the linear model created in the last section that predicts the original `metascore` data given the `explicit_count` data.) If a significant number of the randomly generated regression slopes are more negative than this original regression slope, this could very well indicate that our original results likely arose from random chance.\n",
    "\n",
    "We therefore create a histogram to visualize the distribution of the randomly generated regression slopes. To more easily identify the regression slopes that are more negative than the original, we will highlight all such regression slopes in red, and leave the rest blue."
   ]
  },
  {
   "cell_type": "code",
   "execution_count": 26,
   "metadata": {},
   "outputs": [
    {
     "data": {
      "image/png": "[encoded data removed]",
      "text/plain": [
       "<matplotlib.figure.Figure at 0x1099daac8>"
      ]
     },
     "metadata": {},
     "output_type": "display_data"
    }
   ],
   "source": [
    "# obtain color palette used for coloring histogram below\n",
    "palette = plt.get_cmap(\"Set1\")\n",
    "\n",
    "# the regression slope of the linear model that predicts\n",
    "# the original metascore data given the explicit_count data\n",
    "original_slope_for_total = float(count_metascore_model.coef_)\n",
    "\n",
    "# keeps track of number of regression slopes that are more negative \n",
    "# than original_slope_for_total\n",
    "num_more_negative_slopes_for_total = 0\n",
    "\n",
    "_, bins_for_total, patches_for_total = plt.hist(permutation_slopes_for_total, bins=30)\n",
    "for b, p in zip(bins_for_total, patches_for_total):\n",
    "    color = palette(1)\n",
    "    if b < original_slope_for_total:\n",
    "        color = palette(0)\n",
    "        num_more_negative_slopes_for_total += 1\n",
    "    p.set_facecolor(color)\n",
    "plt.xlabel(\"Slope\")\n",
    "plt.ylabel(\"Frequency\")\n",
    "plt.title(\"Frequency of Slopes (n = 10000)\")\n",
    "plt.show()"
   ]
  },
  {
   "cell_type": "markdown",
   "metadata": {},
   "source": [
    "Based off this histogram, it does not appear there are many randomly generated regression slopes that are more negative than the original regression slope. The following computation confirms this:"
   ]
  },
  {
   "cell_type": "code",
   "execution_count": 27,
   "metadata": {},
   "outputs": [
    {
     "name": "stdout",
     "output_type": "stream",
     "text": [
      "Out of the 10,000 regression slopes generated randomly above, only 2 are more negative than the original \n",
      "regression slope of -0.007863427084692324.\n"
     ]
    }
   ],
   "source": [
    "print(\"Out of the 10,000 regression slopes generated randomly above, only \" + str(num_more_negative_slopes_for_total) \\\n",
    "      + \" are more negative than the original \\nregression slope of \" + str(original_slope_for_total) + \".\")"
   ]
  },
  {
   "cell_type": "markdown",
   "metadata": {},
   "source": [
    "In other words, considering that only $\\frac{2}{10000}=0.02\\%$ of the randomly generated regression slopes are more negative than the original regression slope, it appears extremely unlikely that the original regression slope was the result of random chance. This serves as yet another indication that there is no discernible linear relationship between the number of explicit words on an album and its critical reception.\n",
    "\n",
    "We can conduct a similar simulation examining `explicit_avg` instead of `explicit_count`:"
   ]
  },
  {
   "cell_type": "code",
   "execution_count": 28,
   "metadata": {
    "collapsed": true
   },
   "outputs": [],
   "source": [
    "# array to store the randomly generated regression slopes\n",
    "permutation_slopes_for_avg = np.zeros(10000)\n",
    "\n",
    "for i in range(10000):\n",
    "    permutation = get_permutation(albums[\"metascore\"].copy())\n",
    "    \n",
    "    # fits a linear regression that predicts the permuted metascore data, \n",
    "    # given the original explicit_avg data\n",
    "    model = LinearRegression().fit(albums[[\"explicit_avg\"]], permutation)\n",
    "    \n",
    "    # stores regression slope of linear model above\n",
    "    permutation_slopes_for_avg[i] = float(model.coef_)"
   ]
  },
  {
   "cell_type": "code",
   "execution_count": 29,
   "metadata": {},
   "outputs": [
    {
     "data": {
      "image/png": "[encoded data removed]",
      "text/plain": [
       "<matplotlib.figure.Figure at 0x10951aef0>"
      ]
     },
     "metadata": {},
     "output_type": "display_data"
    }
   ],
   "source": [
    "# the regression slope of the linear model that predicts\n",
    "# the original metascore data given the explicit_avg data\n",
    "original_slope_for_avg = float(avg_metascore_model.coef_)\n",
    "\n",
    "# keeps track of number of regression slopes that are more negative \n",
    "# than original_slope_for_avg\n",
    "num_more_negative_slopes_for_avg = 0\n",
    "\n",
    "_, bins_for_avg, patches_for_avg = plt.hist(permutation_slopes_for_avg, bins=30)\n",
    "for b, p in zip(bins_for_avg, patches_for_avg):\n",
    "    color = palette(1)\n",
    "    if b < original_slope_for_avg:\n",
    "        color = palette(0)\n",
    "        num_more_negative_slopes_for_avg += 1\n",
    "    p.set_facecolor(color)\n",
    "plt.xlabel(\"Slope\")\n",
    "plt.ylabel(\"Frequency\")\n",
    "plt.title(\"Frequency of Slopes (n = 10000)\")\n",
    "plt.show()"
   ]
  },
  {
   "cell_type": "code",
   "execution_count": 30,
   "metadata": {},
   "outputs": [
    {
     "name": "stdout",
     "output_type": "stream",
     "text": [
      "Out of the 10,000 regression slopes generated randomly above, only 2 are more negative than the original \n",
      "regression slope of -0.1117368164823591.\n"
     ]
    }
   ],
   "source": [
    "print(\"Out of the 10,000 regression slopes generated randomly above, only \" + str(num_more_negative_slopes_for_avg) \\\n",
    "      + \" are more negative than the original \\nregression slope of \" + str(original_slope_for_avg) + \".\")"
   ]
  },
  {
   "cell_type": "markdown",
   "metadata": {},
   "source": [
    "We therefore see that it seems very unlikely that the original regression slope (of the linear model that predicts the original `metascore` data given the `explicit_avg` data) arose from random chance. This only further reinforces what we found earlier: namely, that no linear relationship seems to exist between either the quantity or frequency of explicit content on an album and that album's critical reception."
   ]
  },
  {
   "cell_type": "markdown",
   "metadata": {},
   "source": [
    "<div style=\"border-bottom: 4px solid #AAA; padding-bottom: 6px; font-size: 16px; font-weight: bold;\"></div>"
   ]
  },
  {
   "cell_type": "markdown",
   "metadata": {},
   "source": [
    "# Conclusion"
   ]
  },
  {
   "cell_type": "markdown",
   "metadata": {},
   "source": [
    "Overall, through data visualizations, linear regression analysis, and permutation testing, the results above consistently confirm that the amount of explicit lyrics on an album typically does not have any significant impact on that album's critical reception. It therefore appears that, just because explicit music has grown so much in popularity as of late, music critics still evaluate albums fairly, without weighing commercial success or lyricism too heavily when writing their reviews. This in turn implies that music fans can continue to trust and rely upon critics' album reviews to learn about new releases and explore which albums potentially deserve more attention.\n",
    "\n",
    "From here, it would be interesting to run similar analysis on a more expansive dataset, specifically one that includes albums released before 2015 (since this study only focuses on albums released in the 2015-2019 range.) With the inclusion of enough albums, this expanded dataset could possibly be used to analyze whether critic reviews of explicit albums have changed over the last few decades--which is certainly a possibility, given that censorship in music was once significantly more stringent than it is today. Such a study could also reveal the underlying cultural shift towards more \"radical\" forms of entertainment, i.e. entertainment that more shamelessly includes profane or suggestive content. Finally, using a more comprehensive list of words that should be considered \"explicit\" (ex: possibly a list that accounts for different languages, regional slang, etc.) could allow for more accurate judgments of how much \"explicit\" content any given album really contains."
   ]
  },
  {
   "cell_type": "markdown",
   "metadata": {},
   "source": [
    "<div style=\"border-bottom: 4px solid #AAA; padding-bottom: 6px; font-size: 16px; font-weight: bold;\"></div>"
   ]
  },
  {
   "cell_type": "markdown",
   "metadata": {},
   "source": [
    "# Source Code"
   ]
  },
  {
   "cell_type": "markdown",
   "metadata": {},
   "source": [
    "All code pertaining to this study can be found in [this repository](https://github.com/genghisshyy/INFO_2950_FinalProject)."
   ]
  },
  {
   "cell_type": "markdown",
   "metadata": {},
   "source": [
    "<div style=\"border-bottom: 4px solid #AAA; padding-bottom: 6px; font-size: 16px; font-weight: bold;\"></div>"
   ]
  },
  {
   "cell_type": "markdown",
   "metadata": {},
   "source": [
    "# Acknowledgements"
   ]
  },
  {
   "cell_type": "markdown",
   "metadata": {},
   "source": [
    "All works cited in this report are presented below:\n",
    "<br><br>"
   ]
  },
  {
   "cell_type": "markdown",
   "metadata": {},
   "source": [
    "Bannister, Mark. \"The Billboard Hot 100: Exploring Six Decades of Number One \n",
    "     Singles.\" GitHub, Apr. 2017, [Repository Link](https://github.com/mspbannister/dand-p4-billboard/blob/master/Billboard_analysis__100417_.md#the-billboard-hot-100-exploring-six-decades-of-number-one-singles). Accessed 16 May 2020.\n",
    "     \n",
    "\"Best Music and Albums for 2020.\" Metacritic, [Page Link](https://www.metacritic.com/browse/albums/score/metascore/year/filtered?view=condensed&sort=desc). Accessed 16 May 2020.\n",
    "\n",
    "\"Chart History: Prince.\" Billboard, [Page Link](www.billboard.com/music/prince/chart-history/HSI/song/333454). Accessed 16 May 2020.\n",
    "\n",
    "\"How We Create the Metascore Magic.\" Metacritic, [Page Link](https://www.metacritic.com/about-metascores). Accessed 19 May 2020.\n",
    "\n",
    "Ross, Eleanor. \"Parental Advisory: How Songs with Explicit Content Came to \n",
    "     Dominate the Charts.\" Newsweek, 13 Apr. 2017, [Page Link](https://www.newsweek.com/songs-explicit-lyrics-popular-increase-billboard-spotify-583551). Accessed 16 May 2020. "
   ]
  },
  {
   "cell_type": "markdown",
   "metadata": {},
   "source": [
    "<br>Additionally, I would like to thank Metacritic and Genius for providing the raw data necessary to conduct this study."
   ]
  }
 ],
 "metadata": {
  "kernelspec": {
   "display_name": "Python 3",
   "language": "python",
   "name": "python3"
  },
  "language_info": {
   "codemirror_mode": {
    "name": "ipython",
    "version": 3
   },
   "file_extension": ".py",
   "mimetype": "text/x-python",
   "name": "python",
   "nbconvert_exporter": "python",
   "pygments_lexer": "ipython3",
   "version": "3.6.1"
  }
 },
 "nbformat": 4,
 "nbformat_minor": 2
}
